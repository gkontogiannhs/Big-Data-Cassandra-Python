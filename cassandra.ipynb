{
 "cells": [
  {
   "cell_type": "code",
   "execution_count": 1,
   "id": "335c3fc9",
   "metadata": {},
   "outputs": [
    {
     "name": "stdout",
     "output_type": "stream",
     "text": [
      "Once deleted, variables cannot be recovered. Proceed (y/[n])? y\n"
     ]
    }
   ],
   "source": [
    "%reset"
   ]
  },
  {
   "cell_type": "code",
   "execution_count": 2,
   "id": "ccc81fcc",
   "metadata": {},
   "outputs": [],
   "source": [
    "from cassandra.cluster import Cluster\n",
    "from cassandra.auth import PlainTextAuthProvider\n",
    "import uuid\n",
    "from os.path import expanduser\n",
    "from re import findall, compile\n",
    "from pandas import read_csv, merge, to_datetime, DataFrame"
   ]
  },
  {
   "cell_type": "code",
   "execution_count": 3,
   "id": "cdeddf1c",
   "metadata": {},
   "outputs": [],
   "source": [
    "home = expanduser('~')\n",
    "mypath = f'{home}/Downloads/'"
   ]
  },
  {
   "cell_type": "markdown",
   "id": "da0128d4",
   "metadata": {},
   "source": [
    "## Connect to DataStax"
   ]
  },
  {
   "cell_type": "code",
   "execution_count": 4,
   "id": "7d483991",
   "metadata": {},
   "outputs": [],
   "source": [
    "cloud_config= {'secure_connect_bundle': mypath+'secure-connect-bigdataproject2022.zip'}\n",
    "\n",
    "with open(mypath+'GeneratedToken.csv', 'r', encoding='utf-8') as file:\n",
    "    try:\n",
    "        content = file.readlines()        \n",
    "    except FileNotFoundError:\n",
    "        raise('File not found')\n",
    "\n",
    "tokens = findall(r'\"(.*?)\"', content[1])\n",
    "client_id = tokens[0]\n",
    "client_secret = tokens[1]"
   ]
  },
  {
   "cell_type": "code",
   "execution_count": 5,
   "id": "583821a6",
   "metadata": {},
   "outputs": [],
   "source": [
    "auth_provider = PlainTextAuthProvider(client_id, client_secret)\n",
    "cluster = Cluster(cloud=cloud_config, auth_provider=auth_provider)\n",
    "session = cluster.connect('bigdata')"
   ]
  },
  {
   "cell_type": "markdown",
   "id": "0981d04a",
   "metadata": {},
   "source": [
    "## Q1"
   ]
  },
  {
   "cell_type": "markdown",
   "id": "59926a93",
   "metadata": {},
   "source": [
    "## Preprocess and denormalize data for Q1"
   ]
  },
  {
   "cell_type": "code",
   "execution_count": 6,
   "id": "466b2997",
   "metadata": {},
   "outputs": [
    {
     "name": "stdout",
     "output_type": "stream",
     "text": [
      "(27278, 3)\n"
     ]
    },
    {
     "data": {
      "text/html": [
       "<div>\n",
       "<style scoped>\n",
       "    .dataframe tbody tr th:only-of-type {\n",
       "        vertical-align: middle;\n",
       "    }\n",
       "\n",
       "    .dataframe tbody tr th {\n",
       "        vertical-align: top;\n",
       "    }\n",
       "\n",
       "    .dataframe thead th {\n",
       "        text-align: right;\n",
       "    }\n",
       "</style>\n",
       "<table border=\"1\" class=\"dataframe\">\n",
       "  <thead>\n",
       "    <tr style=\"text-align: right;\">\n",
       "      <th></th>\n",
       "      <th>movieId</th>\n",
       "      <th>title</th>\n",
       "      <th>genres</th>\n",
       "    </tr>\n",
       "  </thead>\n",
       "  <tbody>\n",
       "    <tr>\n",
       "      <th>0</th>\n",
       "      <td>1</td>\n",
       "      <td>Toy Story (1995)</td>\n",
       "      <td>Adventure|Animation|Children|Comedy|Fantasy</td>\n",
       "    </tr>\n",
       "    <tr>\n",
       "      <th>1</th>\n",
       "      <td>2</td>\n",
       "      <td>Jumanji (1995)</td>\n",
       "      <td>Adventure|Children|Fantasy</td>\n",
       "    </tr>\n",
       "    <tr>\n",
       "      <th>2</th>\n",
       "      <td>3</td>\n",
       "      <td>Grumpier Old Men (1995)</td>\n",
       "      <td>Comedy|Romance</td>\n",
       "    </tr>\n",
       "    <tr>\n",
       "      <th>3</th>\n",
       "      <td>4</td>\n",
       "      <td>Waiting to Exhale (1995)</td>\n",
       "      <td>Comedy|Drama|Romance</td>\n",
       "    </tr>\n",
       "    <tr>\n",
       "      <th>4</th>\n",
       "      <td>5</td>\n",
       "      <td>Father of the Bride Part II (1995)</td>\n",
       "      <td>Comedy</td>\n",
       "    </tr>\n",
       "  </tbody>\n",
       "</table>\n",
       "</div>"
      ],
      "text/plain": [
       "   movieId                               title  \\\n",
       "0        1                    Toy Story (1995)   \n",
       "1        2                      Jumanji (1995)   \n",
       "2        3             Grumpier Old Men (1995)   \n",
       "3        4            Waiting to Exhale (1995)   \n",
       "4        5  Father of the Bride Part II (1995)   \n",
       "\n",
       "                                        genres  \n",
       "0  Adventure|Animation|Children|Comedy|Fantasy  \n",
       "1                   Adventure|Children|Fantasy  \n",
       "2                               Comedy|Romance  \n",
       "3                         Comedy|Drama|Romance  \n",
       "4                                       Comedy  "
      ]
     },
     "execution_count": 6,
     "metadata": {},
     "output_type": "execute_result"
    }
   ],
   "source": [
    "movies = read_csv(mypath+'archive/movie.csv')\n",
    "print(movies.shape)\n",
    "movies.head()"
   ]
  },
  {
   "cell_type": "code",
   "execution_count": 7,
   "id": "9b1a9b1d",
   "metadata": {},
   "outputs": [
    {
     "name": "stdout",
     "output_type": "stream",
     "text": [
      "(20000263, 3)\n"
     ]
    },
    {
     "data": {
      "text/html": [
       "<div>\n",
       "<style scoped>\n",
       "    .dataframe tbody tr th:only-of-type {\n",
       "        vertical-align: middle;\n",
       "    }\n",
       "\n",
       "    .dataframe tbody tr th {\n",
       "        vertical-align: top;\n",
       "    }\n",
       "\n",
       "    .dataframe thead th {\n",
       "        text-align: right;\n",
       "    }\n",
       "</style>\n",
       "<table border=\"1\" class=\"dataframe\">\n",
       "  <thead>\n",
       "    <tr style=\"text-align: right;\">\n",
       "      <th></th>\n",
       "      <th>movieId</th>\n",
       "      <th>rating</th>\n",
       "      <th>timestamp</th>\n",
       "    </tr>\n",
       "  </thead>\n",
       "  <tbody>\n",
       "    <tr>\n",
       "      <th>0</th>\n",
       "      <td>2</td>\n",
       "      <td>3.5</td>\n",
       "      <td>2005-04-02 23:53:47</td>\n",
       "    </tr>\n",
       "    <tr>\n",
       "      <th>1</th>\n",
       "      <td>29</td>\n",
       "      <td>3.5</td>\n",
       "      <td>2005-04-02 23:31:16</td>\n",
       "    </tr>\n",
       "    <tr>\n",
       "      <th>2</th>\n",
       "      <td>32</td>\n",
       "      <td>3.5</td>\n",
       "      <td>2005-04-02 23:33:39</td>\n",
       "    </tr>\n",
       "    <tr>\n",
       "      <th>3</th>\n",
       "      <td>47</td>\n",
       "      <td>3.5</td>\n",
       "      <td>2005-04-02 23:32:07</td>\n",
       "    </tr>\n",
       "    <tr>\n",
       "      <th>4</th>\n",
       "      <td>50</td>\n",
       "      <td>3.5</td>\n",
       "      <td>2005-04-02 23:29:40</td>\n",
       "    </tr>\n",
       "  </tbody>\n",
       "</table>\n",
       "</div>"
      ],
      "text/plain": [
       "   movieId  rating            timestamp\n",
       "0        2     3.5  2005-04-02 23:53:47\n",
       "1       29     3.5  2005-04-02 23:31:16\n",
       "2       32     3.5  2005-04-02 23:33:39\n",
       "3       47     3.5  2005-04-02 23:32:07\n",
       "4       50     3.5  2005-04-02 23:29:40"
      ]
     },
     "execution_count": 7,
     "metadata": {},
     "output_type": "execute_result"
    }
   ],
   "source": [
    "ratings = read_csv(mypath+'archive/rating.csv', usecols=['movieId', 'rating', 'timestamp'])\n",
    "print(ratings.shape)\n",
    "ratings.head()"
   ]
  },
  {
   "cell_type": "code",
   "execution_count": 8,
   "id": "dad3f3f9",
   "metadata": {},
   "outputs": [
    {
     "name": "stdout",
     "output_type": "stream",
     "text": [
      "(20000263, 5)\n"
     ]
    },
    {
     "data": {
      "text/html": [
       "<div>\n",
       "<style scoped>\n",
       "    .dataframe tbody tr th:only-of-type {\n",
       "        vertical-align: middle;\n",
       "    }\n",
       "\n",
       "    .dataframe tbody tr th {\n",
       "        vertical-align: top;\n",
       "    }\n",
       "\n",
       "    .dataframe thead th {\n",
       "        text-align: right;\n",
       "    }\n",
       "</style>\n",
       "<table border=\"1\" class=\"dataframe\">\n",
       "  <thead>\n",
       "    <tr style=\"text-align: right;\">\n",
       "      <th></th>\n",
       "      <th>movieId</th>\n",
       "      <th>title</th>\n",
       "      <th>genres</th>\n",
       "      <th>rating</th>\n",
       "      <th>timestamp</th>\n",
       "    </tr>\n",
       "  </thead>\n",
       "  <tbody>\n",
       "    <tr>\n",
       "      <th>0</th>\n",
       "      <td>1</td>\n",
       "      <td>Toy Story (1995)</td>\n",
       "      <td>Adventure|Animation|Children|Comedy|Fantasy</td>\n",
       "      <td>4.0</td>\n",
       "      <td>1999-12-11 13:36:47</td>\n",
       "    </tr>\n",
       "    <tr>\n",
       "      <th>1</th>\n",
       "      <td>1</td>\n",
       "      <td>Toy Story (1995)</td>\n",
       "      <td>Adventure|Animation|Children|Comedy|Fantasy</td>\n",
       "      <td>5.0</td>\n",
       "      <td>1997-03-13 17:50:52</td>\n",
       "    </tr>\n",
       "    <tr>\n",
       "      <th>2</th>\n",
       "      <td>1</td>\n",
       "      <td>Toy Story (1995)</td>\n",
       "      <td>Adventure|Animation|Children|Comedy|Fantasy</td>\n",
       "      <td>4.0</td>\n",
       "      <td>1996-06-05 13:37:51</td>\n",
       "    </tr>\n",
       "    <tr>\n",
       "      <th>3</th>\n",
       "      <td>1</td>\n",
       "      <td>Toy Story (1995)</td>\n",
       "      <td>Adventure|Animation|Children|Comedy|Fantasy</td>\n",
       "      <td>4.0</td>\n",
       "      <td>1999-11-25 02:44:47</td>\n",
       "    </tr>\n",
       "    <tr>\n",
       "      <th>4</th>\n",
       "      <td>1</td>\n",
       "      <td>Toy Story (1995)</td>\n",
       "      <td>Adventure|Animation|Children|Comedy|Fantasy</td>\n",
       "      <td>4.5</td>\n",
       "      <td>2009-01-02 01:13:41</td>\n",
       "    </tr>\n",
       "  </tbody>\n",
       "</table>\n",
       "</div>"
      ],
      "text/plain": [
       "   movieId             title                                       genres  \\\n",
       "0        1  Toy Story (1995)  Adventure|Animation|Children|Comedy|Fantasy   \n",
       "1        1  Toy Story (1995)  Adventure|Animation|Children|Comedy|Fantasy   \n",
       "2        1  Toy Story (1995)  Adventure|Animation|Children|Comedy|Fantasy   \n",
       "3        1  Toy Story (1995)  Adventure|Animation|Children|Comedy|Fantasy   \n",
       "4        1  Toy Story (1995)  Adventure|Animation|Children|Comedy|Fantasy   \n",
       "\n",
       "   rating            timestamp  \n",
       "0     4.0  1999-12-11 13:36:47  \n",
       "1     5.0  1997-03-13 17:50:52  \n",
       "2     4.0  1996-06-05 13:37:51  \n",
       "3     4.0  1999-11-25 02:44:47  \n",
       "4     4.5  2009-01-02 01:13:41  "
      ]
     },
     "execution_count": 8,
     "metadata": {},
     "output_type": "execute_result"
    }
   ],
   "source": [
    "## maybe group by at first?\n",
    "movies_ratings = merge(left=movies, right=ratings, left_on='movieId', right_on='movieId')\n",
    "print(movies_ratings.shape)\n",
    "movies_ratings.head()"
   ]
  },
  {
   "cell_type": "markdown",
   "id": "8958306c",
   "metadata": {},
   "source": [
    "### Insert data to table movies_by_date"
   ]
  },
  {
   "cell_type": "code",
   "execution_count": 9,
   "id": "1ecfc4ba",
   "metadata": {},
   "outputs": [],
   "source": [
    "def insert_into_movies_by_date(df, n):\n",
    "    # insert data for Q1\n",
    "    for index, row in df[0::n].iterrows():\n",
    "        # year | timestamp | movieid | rating | title\n",
    "        year = row.timestamp.year # int\n",
    "        tmstp = row.timestamp # timestamp\n",
    "        movie_id = row.movieId # int\n",
    "        r = row.rating # float\n",
    "        title = row.title.replace(\"'\", \"\") # string\n",
    "        try:\n",
    "            q = f\"INSERT INTO movies_by_date(year, timestamp, movieid, rating, title) VALUES({year}, '{tmstp}', {movie_id}, {r}, '{title}')\"\n",
    "            session.execute(q)\n",
    "            return True\n",
    "        except:\n",
    "            return False"
   ]
  },
  {
   "cell_type": "markdown",
   "id": "d2c36888",
   "metadata": {},
   "source": [
    "### Retrieve data from movies_by_date screenshot"
   ]
  },
  {
   "cell_type": "code",
   "execution_count": 10,
   "id": "19a5714a",
   "metadata": {},
   "outputs": [],
   "source": [
    "def select_from_movies_by_date(start_date, end_date):\n",
    "    Q1 = f\"SELECT * FROM movies_by_date WHERE year=? and timestamp >= ? and timestamp <= ?;\"\n",
    "    prepared = session.prepare(Q1)\n",
    "    sd = to_datetime(start_date)\n",
    "    ed = to_datetime(end_date)\n",
    "    if sd.year == ed.year:\n",
    "        rows = session.execute(prepared, (sd.year, sd, ed))\n",
    "        for row in rows:\n",
    "            print(f\"Title: {row.title} Rating: {row.rating:.1f}\")"
   ]
  },
  {
   "cell_type": "code",
   "execution_count": 11,
   "id": "cc1380cd",
   "metadata": {},
   "outputs": [
    {
     "name": "stdout",
     "output_type": "stream",
     "text": [
      "Title: Dark Knight, The (2008) Rating: 5.0\n",
      "Title: Beasts of the Southern Wild (2012) Rating: 3.0\n",
      "Title: Rise of the Planet of the Apes (2011) Rating: 3.0\n",
      "Title: Me and You and Everyone We Know (2005) Rating: 4.5\n",
      "Title: Matrix Revolutions, The (2003) Rating: 3.0\n",
      "Title: Fight Club (1999) Rating: 3.5\n",
      "Title: Double Jeopardy (1999) Rating: 3.0\n",
      "Title: Hannibal Rising (2007) Rating: 4.0\n",
      "Title: Enduring Love (2004) Rating: 3.5\n",
      "Title: Vegas Vacation (National Lampoons Las Vegas Vacation) (1997) Rating: 3.0\n",
      "Title: Nightmare on Elm Street, A (1984) Rating: 4.0\n",
      "Title: Good Morning, Vietnam (1987) Rating: 3.5\n",
      "Title: Scarface (1983) Rating: 4.0\n",
      "Title: Big Night (1996) Rating: 3.0\n",
      "Title: Best Exotic Marigold Hotel, The (2011) Rating: 3.5\n"
     ]
    }
   ],
   "source": [
    "# insert_into_movies_by_date(movies_ratings, 1)\n",
    "select_from_movies_by_date('2013-01-01', '2013-02-01')"
   ]
  },
  {
   "cell_type": "markdown",
   "id": "d94e88a2",
   "metadata": {},
   "source": [
    "## Q2"
   ]
  },
  {
   "cell_type": "markdown",
   "id": "8ae0d256",
   "metadata": {},
   "source": [
    "### Preprocess and denormalize data for Q2"
   ]
  },
  {
   "cell_type": "code",
   "execution_count": 12,
   "id": "8477a3bb",
   "metadata": {},
   "outputs": [
    {
     "name": "stdout",
     "output_type": "stream",
     "text": [
      "(465564, 2)\n"
     ]
    },
    {
     "data": {
      "text/html": [
       "<div>\n",
       "<style scoped>\n",
       "    .dataframe tbody tr th:only-of-type {\n",
       "        vertical-align: middle;\n",
       "    }\n",
       "\n",
       "    .dataframe tbody tr th {\n",
       "        vertical-align: top;\n",
       "    }\n",
       "\n",
       "    .dataframe thead th {\n",
       "        text-align: right;\n",
       "    }\n",
       "</style>\n",
       "<table border=\"1\" class=\"dataframe\">\n",
       "  <thead>\n",
       "    <tr style=\"text-align: right;\">\n",
       "      <th></th>\n",
       "      <th>movieId</th>\n",
       "      <th>tag</th>\n",
       "    </tr>\n",
       "  </thead>\n",
       "  <tbody>\n",
       "    <tr>\n",
       "      <th>0</th>\n",
       "      <td>4141</td>\n",
       "      <td>Mark Waters</td>\n",
       "    </tr>\n",
       "    <tr>\n",
       "      <th>1</th>\n",
       "      <td>208</td>\n",
       "      <td>dark hero</td>\n",
       "    </tr>\n",
       "    <tr>\n",
       "      <th>2</th>\n",
       "      <td>353</td>\n",
       "      <td>dark hero</td>\n",
       "    </tr>\n",
       "    <tr>\n",
       "      <th>3</th>\n",
       "      <td>521</td>\n",
       "      <td>noir thriller</td>\n",
       "    </tr>\n",
       "    <tr>\n",
       "      <th>4</th>\n",
       "      <td>592</td>\n",
       "      <td>dark hero</td>\n",
       "    </tr>\n",
       "  </tbody>\n",
       "</table>\n",
       "</div>"
      ],
      "text/plain": [
       "   movieId            tag\n",
       "0     4141    Mark Waters\n",
       "1      208      dark hero\n",
       "2      353      dark hero\n",
       "3      521  noir thriller\n",
       "4      592      dark hero"
      ]
     },
     "execution_count": 12,
     "metadata": {},
     "output_type": "execute_result"
    }
   ],
   "source": [
    "tags = read_csv(mypath+'archive/tag.csv', usecols=['movieId', 'tag'])\n",
    "print(tags.shape)\n",
    "tags.head()"
   ]
  },
  {
   "cell_type": "code",
   "execution_count": 13,
   "id": "26485225",
   "metadata": {},
   "outputs": [
    {
     "name": "stdout",
     "output_type": "stream",
     "text": [
      "(19545, 2)\n"
     ]
    },
    {
     "data": {
      "text/html": [
       "<div>\n",
       "<style scoped>\n",
       "    .dataframe tbody tr th:only-of-type {\n",
       "        vertical-align: middle;\n",
       "    }\n",
       "\n",
       "    .dataframe tbody tr th {\n",
       "        vertical-align: top;\n",
       "    }\n",
       "\n",
       "    .dataframe thead th {\n",
       "        text-align: right;\n",
       "    }\n",
       "</style>\n",
       "<table border=\"1\" class=\"dataframe\">\n",
       "  <thead>\n",
       "    <tr style=\"text-align: right;\">\n",
       "      <th></th>\n",
       "      <th>movieId</th>\n",
       "      <th>tags</th>\n",
       "    </tr>\n",
       "  </thead>\n",
       "  <tbody>\n",
       "    <tr>\n",
       "      <th>0</th>\n",
       "      <td>1</td>\n",
       "      <td>[Watched, computer animation, Disney animated ...</td>\n",
       "    </tr>\n",
       "    <tr>\n",
       "      <th>1</th>\n",
       "      <td>2</td>\n",
       "      <td>[time travel, adapted from:book, board game, c...</td>\n",
       "    </tr>\n",
       "    <tr>\n",
       "      <th>2</th>\n",
       "      <td>3</td>\n",
       "      <td>[old people that is actually funny, sequel fev...</td>\n",
       "    </tr>\n",
       "    <tr>\n",
       "      <th>3</th>\n",
       "      <td>4</td>\n",
       "      <td>[chick flick, revenge, characters, chick flick...</td>\n",
       "    </tr>\n",
       "    <tr>\n",
       "      <th>4</th>\n",
       "      <td>5</td>\n",
       "      <td>[Diane Keaton, family, sequel, Steve Martin, w...</td>\n",
       "    </tr>\n",
       "  </tbody>\n",
       "</table>\n",
       "</div>"
      ],
      "text/plain": [
       "   movieId                                               tags\n",
       "0        1  [Watched, computer animation, Disney animated ...\n",
       "1        2  [time travel, adapted from:book, board game, c...\n",
       "2        3  [old people that is actually funny, sequel fev...\n",
       "3        4  [chick flick, revenge, characters, chick flick...\n",
       "4        5  [Diane Keaton, family, sequel, Steve Martin, w..."
      ]
     },
     "execution_count": 13,
     "metadata": {},
     "output_type": "execute_result"
    }
   ],
   "source": [
    "movies_tag_list = tags.groupby(by='movieId')['tag'].apply(list).reset_index(name='tags')\n",
    "print(movies_tag_list.shape)\n",
    "movies_tag_list.head()"
   ]
  },
  {
   "cell_type": "code",
   "execution_count": 14,
   "id": "4f659fc4",
   "metadata": {},
   "outputs": [
    {
     "name": "stdout",
     "output_type": "stream",
     "text": [
      "(19854570, 5)\n"
     ]
    },
    {
     "data": {
      "text/html": [
       "<div>\n",
       "<style scoped>\n",
       "    .dataframe tbody tr th:only-of-type {\n",
       "        vertical-align: middle;\n",
       "    }\n",
       "\n",
       "    .dataframe tbody tr th {\n",
       "        vertical-align: top;\n",
       "    }\n",
       "\n",
       "    .dataframe thead th {\n",
       "        text-align: right;\n",
       "    }\n",
       "</style>\n",
       "<table border=\"1\" class=\"dataframe\">\n",
       "  <thead>\n",
       "    <tr style=\"text-align: right;\">\n",
       "      <th></th>\n",
       "      <th>movieId</th>\n",
       "      <th>tags</th>\n",
       "      <th>title</th>\n",
       "      <th>genres</th>\n",
       "      <th>rating</th>\n",
       "    </tr>\n",
       "  </thead>\n",
       "  <tbody>\n",
       "    <tr>\n",
       "      <th>0</th>\n",
       "      <td>1</td>\n",
       "      <td>[Watched, computer animation, Disney animated ...</td>\n",
       "      <td>Toy Story (1995)</td>\n",
       "      <td>Adventure|Animation|Children|Comedy|Fantasy</td>\n",
       "      <td>4.0</td>\n",
       "    </tr>\n",
       "    <tr>\n",
       "      <th>1</th>\n",
       "      <td>1</td>\n",
       "      <td>[Watched, computer animation, Disney animated ...</td>\n",
       "      <td>Toy Story (1995)</td>\n",
       "      <td>Adventure|Animation|Children|Comedy|Fantasy</td>\n",
       "      <td>5.0</td>\n",
       "    </tr>\n",
       "    <tr>\n",
       "      <th>2</th>\n",
       "      <td>1</td>\n",
       "      <td>[Watched, computer animation, Disney animated ...</td>\n",
       "      <td>Toy Story (1995)</td>\n",
       "      <td>Adventure|Animation|Children|Comedy|Fantasy</td>\n",
       "      <td>4.0</td>\n",
       "    </tr>\n",
       "    <tr>\n",
       "      <th>3</th>\n",
       "      <td>1</td>\n",
       "      <td>[Watched, computer animation, Disney animated ...</td>\n",
       "      <td>Toy Story (1995)</td>\n",
       "      <td>Adventure|Animation|Children|Comedy|Fantasy</td>\n",
       "      <td>4.0</td>\n",
       "    </tr>\n",
       "    <tr>\n",
       "      <th>4</th>\n",
       "      <td>1</td>\n",
       "      <td>[Watched, computer animation, Disney animated ...</td>\n",
       "      <td>Toy Story (1995)</td>\n",
       "      <td>Adventure|Animation|Children|Comedy|Fantasy</td>\n",
       "      <td>4.5</td>\n",
       "    </tr>\n",
       "  </tbody>\n",
       "</table>\n",
       "</div>"
      ],
      "text/plain": [
       "   movieId                                               tags  \\\n",
       "0        1  [Watched, computer animation, Disney animated ...   \n",
       "1        1  [Watched, computer animation, Disney animated ...   \n",
       "2        1  [Watched, computer animation, Disney animated ...   \n",
       "3        1  [Watched, computer animation, Disney animated ...   \n",
       "4        1  [Watched, computer animation, Disney animated ...   \n",
       "\n",
       "              title                                       genres  rating  \n",
       "0  Toy Story (1995)  Adventure|Animation|Children|Comedy|Fantasy     4.0  \n",
       "1  Toy Story (1995)  Adventure|Animation|Children|Comedy|Fantasy     5.0  \n",
       "2  Toy Story (1995)  Adventure|Animation|Children|Comedy|Fantasy     4.0  \n",
       "3  Toy Story (1995)  Adventure|Animation|Children|Comedy|Fantasy     4.0  \n",
       "4  Toy Story (1995)  Adventure|Animation|Children|Comedy|Fantasy     4.5  "
      ]
     },
     "execution_count": 14,
     "metadata": {},
     "output_type": "execute_result"
    }
   ],
   "source": [
    "movies_ratings_tags = merge(left=movies_tag_list, right=movies_ratings.loc[:, 'movieId':'rating'], left_on='movieId', right_on='movieId')\n",
    "print(movies_ratings_tags.shape)\n",
    "movies_ratings_tags.head()"
   ]
  },
  {
   "cell_type": "code",
   "execution_count": 15,
   "id": "d007a3aa",
   "metadata": {},
   "outputs": [],
   "source": [
    "def insert_into_movies_by_title(df, n=5000):\n",
    "    # insert data for Q2\n",
    "    sep = '('\n",
    "    for index, row in df[0::n].iterrows():\n",
    "        #  title | movieid | id | genre | rating | tags\n",
    "        title = row.title[:-7].replace(\"'\", \"\").split(sep, 1)[0]\n",
    "        movie_id = row.movieId\n",
    "        idd = uuid.uuid4()\n",
    "        genre = row.genres\n",
    "        r = row.rating\n",
    "        tags = {}\n",
    "        for tag in row.tags:\n",
    "            t = str(tag).replace(\"'\", \"\")\n",
    "            if t in tags and t != '':\n",
    "                tags[t] += 1\n",
    "            else:\n",
    "                tags[t] = 1\n",
    "        try:\n",
    "            q = f\"INSERT INTO movies_by_title(title, movieid, id, genre, rating, tags)VALUES('{title}', {movie_id}, {idd}, '{genre}', {r}, {tags})\"\n",
    "            session.execute(q)\n",
    "            return True\n",
    "        except:\n",
    "            return False"
   ]
  },
  {
   "cell_type": "code",
   "execution_count": 16,
   "id": "514b3ca3",
   "metadata": {},
   "outputs": [],
   "source": [
    "def select_from_movies_by_title(session, title):\n",
    "    Q2 = f\"SELECT title, genre, tags, avg(rating) as avg FROM movies_by_title WHERE title='{title}' GROUP BY movieid;\"\n",
    "    rows = session.execute(Q2)\n",
    "    for row in rows:\n",
    "        sorted_tags = sorted(row.tags.items(), key=lambda x: x[1], reverse=True)\n",
    "        print(f\"Title: {row.title} Rating: {row.avg:.1f} Genre: {row.genre} Most popular tags: {sorted_tags[:5]}\")"
   ]
  },
  {
   "cell_type": "code",
   "execution_count": 17,
   "id": "39d88c58",
   "metadata": {},
   "outputs": [
    {
     "name": "stdout",
     "output_type": "stream",
     "text": [
      "Title: Jumanji Rating: 3.3 Genre: Adventure|Children|Fantasy Most popular tags: [('Robin Williams', 20), ('fantasy', 11), ('time travel', 11), ('animals', 9), ('board game', 7)]\n"
     ]
    }
   ],
   "source": [
    "# insert_into_movies_by_title(movies_ratings_tags, 1)\n",
    "select_from_movies_by_title(session, \"Jumanji\")"
   ]
  },
  {
   "cell_type": "markdown",
   "id": "014bc34c",
   "metadata": {},
   "source": [
    "## Q3"
   ]
  },
  {
   "cell_type": "markdown",
   "id": "b4f798cd",
   "metadata": {},
   "source": [
    "### Insert data to movies_by_genre"
   ]
  },
  {
   "cell_type": "code",
   "execution_count": 18,
   "id": "d54325cb",
   "metadata": {},
   "outputs": [],
   "source": [
    "def insert_into_movies_by_genre(df, n):\n",
    "    # insert data for Q3\n",
    "    pattern = compile(r\"\\((\\d+)\\)\")\n",
    "    sep = '('\n",
    "    for index, row in df[0::n].iterrows():\n",
    "        #  genre | release_date | movieid | rating | id | title\n",
    "        genre = row.genres\n",
    "        release_date = pattern.findall(row.title)[-1]\n",
    "        title = row.title[:-6].replace(\"'\", \"\").split(sep, 1)[0]\n",
    "        movie_id = row.movieId\n",
    "        r = row.rating\n",
    "        idd = uuid.uuid4()\n",
    "        \n",
    "        q = f\"INSERT INTO movies_by_genre(genre, release_date, movieid, rating, id, title)VALUES('{genre}', {release_date}, {movie_id}, {r}, {idd}, '{title}')\"\n",
    "        session.execute(q)"
   ]
  },
  {
   "cell_type": "markdown",
   "id": "33f551e7",
   "metadata": {},
   "source": [
    "### Retrieve data from movies_by_genre"
   ]
  },
  {
   "cell_type": "code",
   "execution_count": 20,
   "id": "5b563f89",
   "metadata": {},
   "outputs": [],
   "source": [
    "def select_from_movies_by_genre(genre, limit=10):\n",
    "    Q3 = f\"SELECT title, avg(rating) AS avg, release_date FROM movies_by_genre WHERE genre='{genre}' GROUP BY release_date, movieid ORDER BY release_date ASC LIMIT {limit};\"\n",
    "    prepared = session.prepare(Q3)\n",
    "    rows = session.execute(prepared)\n",
    "    for row in rows:\n",
    "        print(f\"Title: {row.title} Rating: {row.avg:.1f} Release Date: {row.release_date}\")\n",
    "    "
   ]
  },
  {
   "cell_type": "code",
   "execution_count": 21,
   "id": "2b08e6c4",
   "metadata": {},
   "outputs": [
    {
     "name": "stdout",
     "output_type": "stream",
     "text": [
      "Title: Treasure Island  Rating: 4.0 Release Date: 1934\n",
      "Title: Wee Willie Winkie  Rating: 4.0 Release Date: 1937\n",
      "Title: If I Were King  Rating: 3.5 Release Date: 1938\n",
      "Title: Adventures of Tom Sawyer, The  Rating: 3.0 Release Date: 1938\n",
      "Title: Man in the Iron Mask, The  Rating: 3.2 Release Date: 1939\n",
      "Title: Mark of Zorro, The  Rating: 3.0 Release Date: 1940\n",
      "Title: Black Swan, The  Rating: 3.2 Release Date: 1942\n",
      "Title: Prisoner of Zenda, The  Rating: 4.0 Release Date: 1952\n",
      "Title: Snows of Kilimanjaro, The  Rating: 3.0 Release Date: 1952\n",
      "Title: Macao  Rating: 3.8 Release Date: 1952\n"
     ]
    }
   ],
   "source": [
    "# insert_into_movies_by_genre(movies_ratings, 1)\n",
    "select_from_movies_by_genre('Adventure')"
   ]
  }
 ],
 "metadata": {
  "kernelspec": {
   "display_name": "Python 3 (ipykernel)",
   "language": "python",
   "name": "python3"
  },
  "language_info": {
   "codemirror_mode": {
    "name": "ipython",
    "version": 3
   },
   "file_extension": ".py",
   "mimetype": "text/x-python",
   "name": "python",
   "nbconvert_exporter": "python",
   "pygments_lexer": "ipython3",
   "version": "3.10.4"
  }
 },
 "nbformat": 4,
 "nbformat_minor": 5
}
