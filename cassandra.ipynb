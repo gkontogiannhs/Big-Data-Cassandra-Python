{
 "cells": [
  {
   "cell_type": "code",
   "execution_count": 1,
   "id": "335c3fc9",
   "metadata": {},
   "outputs": [
    {
     "name": "stdout",
     "output_type": "stream",
     "text": [
      "Once deleted, variables cannot be recovered. Proceed (y/[n])? y\n"
     ]
    }
   ],
   "source": [
    "%reset"
   ]
  },
  {
   "cell_type": "code",
   "execution_count": 2,
   "id": "ccc81fcc",
   "metadata": {},
   "outputs": [],
   "source": [
    "from cassandra.cluster import Cluster\n",
    "from cassandra.auth import PlainTextAuthProvider\n",
    "import uuid\n",
    "from os.path import expanduser, join\n",
    "from re import findall, compile\n",
    "from pandas import read_csv, merge, to_datetime, DataFrame\n",
    "import subprocess"
   ]
  },
  {
   "cell_type": "code",
   "execution_count": 3,
   "id": "cdeddf1c",
   "metadata": {},
   "outputs": [],
   "source": [
    "home = expanduser('~')\n",
    "mypath = f'{home}/Downloads/BigData/'\n",
    "deromalized_path = join(mypath, 'Datastax_denormalized/').replace('\\\\', '/')"
   ]
  },
  {
   "cell_type": "markdown",
   "id": "da0128d4",
   "metadata": {},
   "source": [
    "## Connect to DataStax"
   ]
  },
  {
   "cell_type": "code",
   "execution_count": 4,
   "id": "7d483991",
   "metadata": {},
   "outputs": [],
   "source": [
    "cloud_config= {'secure_connect_bundle': mypath+'secure-connect-bigdataproject2022.zip'}\n",
    "\n",
    "with open(mypath+'GeneratedToken.csv', 'r', encoding='utf-8') as file:\n",
    "    try:\n",
    "        content = file.readlines()        \n",
    "    except FileNotFoundError:\n",
    "        raise('File not found')\n",
    "\n",
    "tokens = findall(r'\"(.*?)\"', content[1])\n",
    "client_id = tokens[0]\n",
    "client_secret = tokens[1]"
   ]
  },
  {
   "cell_type": "code",
   "execution_count": 5,
   "id": "583821a6",
   "metadata": {},
   "outputs": [],
   "source": [
    "keyspace = 'big_data'\n",
    "auth_provider = PlainTextAuthProvider(client_id, client_secret)\n",
    "cluster = Cluster(cloud=cloud_config, auth_provider=auth_provider)\n",
    "session = cluster.connect(keyspace)"
   ]
  },
  {
   "cell_type": "code",
   "execution_count": 9,
   "id": "27b5269b",
   "metadata": {},
   "outputs": [],
   "source": [
    "def upload_data_to_cassandra(keyspace, table_name, filename, username, password):\n",
    "    ds_bulk_url = 'C:/dsbulk-1.9.0/dsbulk-1.9.0/bin/dsbulk'\n",
    "    filename_url = join(deromalized_path, filename).replace('\\\\', '/')\n",
    "    bundle_url = join(mypath, 'secure-connect-bigdataproject2022.zip').replace('\\\\', '/')\n",
    "    \n",
    "    shell_comm = [ds_bulk_url, 'load', '-url', filename_url, '-k', keyspace, '-t', table_name, '-cl', 'ALL', \n",
    "                  '-b', bundle_url, '-u', username, '-p', password, '-header', 'true']\n",
    "    \n",
    "    print(' '.join(shell_comm))\n",
    "    ret = subprocess.run(shell_comm, capture_output=True, shell=True)\n",
    "    print(ret)\n",
    "    return "
   ]
  },
  {
   "cell_type": "code",
   "execution_count": 10,
   "id": "d1824418",
   "metadata": {},
   "outputs": [],
   "source": [
    "## maybe group by at first and store like it?\n",
    "# function to clean out titles\n",
    "def preprocess_movie_title(title):\n",
    "    \n",
    "    sep = ' ('\n",
    "    title = title.split(sep, 1)[0]\n",
    "    title = title.replace(\"'\", \"\")\n",
    "    \n",
    "    comma_index = title.find(', The')\n",
    "    a_index = title.find(', A')\n",
    "\n",
    "    if comma_index > 0:\n",
    "        return title[comma_index+2:] + ' ' + title[:comma_index]\n",
    "    elif a_index > 0:\n",
    "        return title[a_index+2:] + ' ' + title[:a_index]\n",
    "\n",
    "    return title"
   ]
  },
  {
   "cell_type": "code",
   "execution_count": 11,
   "id": "2a5896a9",
   "metadata": {},
   "outputs": [],
   "source": [
    "# upload_data_to_cassandra(client_id, client_secret, 'bigdata', 'movies_by_title2', 'movies_by_title.csv')"
   ]
  },
  {
   "cell_type": "markdown",
   "id": "0981d04a",
   "metadata": {},
   "source": [
    "## Q1"
   ]
  },
  {
   "cell_type": "markdown",
   "id": "40e80d24",
   "metadata": {},
   "source": [
    "## Preprocess and denormalize data for Q1"
   ]
  },
  {
   "cell_type": "code",
   "execution_count": 25,
   "id": "1f9c89e0",
   "metadata": {},
   "outputs": [
    {
     "name": "stdout",
     "output_type": "stream",
     "text": [
      "(27278, 3)\n"
     ]
    },
    {
     "data": {
      "text/html": [
       "<div>\n",
       "<style scoped>\n",
       "    .dataframe tbody tr th:only-of-type {\n",
       "        vertical-align: middle;\n",
       "    }\n",
       "\n",
       "    .dataframe tbody tr th {\n",
       "        vertical-align: top;\n",
       "    }\n",
       "\n",
       "    .dataframe thead th {\n",
       "        text-align: right;\n",
       "    }\n",
       "</style>\n",
       "<table border=\"1\" class=\"dataframe\">\n",
       "  <thead>\n",
       "    <tr style=\"text-align: right;\">\n",
       "      <th></th>\n",
       "      <th>movieid</th>\n",
       "      <th>title</th>\n",
       "      <th>genres</th>\n",
       "    </tr>\n",
       "  </thead>\n",
       "  <tbody>\n",
       "    <tr>\n",
       "      <th>0</th>\n",
       "      <td>1</td>\n",
       "      <td>Toy Story (1995)</td>\n",
       "      <td>Adventure|Animation|Children|Comedy|Fantasy</td>\n",
       "    </tr>\n",
       "    <tr>\n",
       "      <th>1</th>\n",
       "      <td>2</td>\n",
       "      <td>Jumanji (1995)</td>\n",
       "      <td>Adventure|Children|Fantasy</td>\n",
       "    </tr>\n",
       "    <tr>\n",
       "      <th>2</th>\n",
       "      <td>3</td>\n",
       "      <td>Grumpier Old Men (1995)</td>\n",
       "      <td>Comedy|Romance</td>\n",
       "    </tr>\n",
       "    <tr>\n",
       "      <th>3</th>\n",
       "      <td>4</td>\n",
       "      <td>Waiting to Exhale (1995)</td>\n",
       "      <td>Comedy|Drama|Romance</td>\n",
       "    </tr>\n",
       "    <tr>\n",
       "      <th>4</th>\n",
       "      <td>5</td>\n",
       "      <td>Father of the Bride Part II (1995)</td>\n",
       "      <td>Comedy</td>\n",
       "    </tr>\n",
       "  </tbody>\n",
       "</table>\n",
       "</div>"
      ],
      "text/plain": [
       "   movieid                               title  \\\n",
       "0        1                    Toy Story (1995)   \n",
       "1        2                      Jumanji (1995)   \n",
       "2        3             Grumpier Old Men (1995)   \n",
       "3        4            Waiting to Exhale (1995)   \n",
       "4        5  Father of the Bride Part II (1995)   \n",
       "\n",
       "                                        genres  \n",
       "0  Adventure|Animation|Children|Comedy|Fantasy  \n",
       "1                   Adventure|Children|Fantasy  \n",
       "2                               Comedy|Romance  \n",
       "3                         Comedy|Drama|Romance  \n",
       "4                                       Comedy  "
      ]
     },
     "execution_count": 25,
     "metadata": {},
     "output_type": "execute_result"
    }
   ],
   "source": [
    "movies = read_csv(mypath+'archive/movie.csv', names=[\"movieid\", \"title\", \"genres\"], header=0)\n",
    "print(movies.shape)\n",
    "movies.head()"
   ]
  },
  {
   "cell_type": "code",
   "execution_count": 30,
   "id": "1d5990b6",
   "metadata": {},
   "outputs": [
    {
     "name": "stdout",
     "output_type": "stream",
     "text": [
      "(20000263, 3)\n"
     ]
    },
    {
     "data": {
      "text/html": [
       "<div>\n",
       "<style scoped>\n",
       "    .dataframe tbody tr th:only-of-type {\n",
       "        vertical-align: middle;\n",
       "    }\n",
       "\n",
       "    .dataframe tbody tr th {\n",
       "        vertical-align: top;\n",
       "    }\n",
       "\n",
       "    .dataframe thead th {\n",
       "        text-align: right;\n",
       "    }\n",
       "</style>\n",
       "<table border=\"1\" class=\"dataframe\">\n",
       "  <thead>\n",
       "    <tr style=\"text-align: right;\">\n",
       "      <th></th>\n",
       "      <th>movieId</th>\n",
       "      <th>rating</th>\n",
       "      <th>timestamp</th>\n",
       "    </tr>\n",
       "  </thead>\n",
       "  <tbody>\n",
       "    <tr>\n",
       "      <th>0</th>\n",
       "      <td>2</td>\n",
       "      <td>3.5</td>\n",
       "      <td>2005-04-02 23:53:47</td>\n",
       "    </tr>\n",
       "    <tr>\n",
       "      <th>1</th>\n",
       "      <td>29</td>\n",
       "      <td>3.5</td>\n",
       "      <td>2005-04-02 23:31:16</td>\n",
       "    </tr>\n",
       "    <tr>\n",
       "      <th>2</th>\n",
       "      <td>32</td>\n",
       "      <td>3.5</td>\n",
       "      <td>2005-04-02 23:33:39</td>\n",
       "    </tr>\n",
       "    <tr>\n",
       "      <th>3</th>\n",
       "      <td>47</td>\n",
       "      <td>3.5</td>\n",
       "      <td>2005-04-02 23:32:07</td>\n",
       "    </tr>\n",
       "    <tr>\n",
       "      <th>4</th>\n",
       "      <td>50</td>\n",
       "      <td>3.5</td>\n",
       "      <td>2005-04-02 23:29:40</td>\n",
       "    </tr>\n",
       "  </tbody>\n",
       "</table>\n",
       "</div>"
      ],
      "text/plain": [
       "   movieId  rating            timestamp\n",
       "0        2     3.5  2005-04-02 23:53:47\n",
       "1       29     3.5  2005-04-02 23:31:16\n",
       "2       32     3.5  2005-04-02 23:33:39\n",
       "3       47     3.5  2005-04-02 23:32:07\n",
       "4       50     3.5  2005-04-02 23:29:40"
      ]
     },
     "execution_count": 30,
     "metadata": {},
     "output_type": "execute_result"
    }
   ],
   "source": [
    "# find how to keep the date part when parsing file u idiot\n",
    "ratings = read_csv(mypath+'archive/rating.csv', usecols=['movieId', 'rating', 'timestamp'], header=0)\n",
    "ratings = ratings.rename(columns={'movieId':'movieid'})\n",
    "print(ratings.shape)\n",
    "ratings.head()"
   ]
  },
  {
   "cell_type": "code",
   "execution_count": 35,
   "id": "f89d7bbf",
   "metadata": {},
   "outputs": [
    {
     "data": {
      "text/html": [
       "<div>\n",
       "<style scoped>\n",
       "    .dataframe tbody tr th:only-of-type {\n",
       "        vertical-align: middle;\n",
       "    }\n",
       "\n",
       "    .dataframe tbody tr th {\n",
       "        vertical-align: top;\n",
       "    }\n",
       "\n",
       "    .dataframe thead th {\n",
       "        text-align: right;\n",
       "    }\n",
       "</style>\n",
       "<table border=\"1\" class=\"dataframe\">\n",
       "  <thead>\n",
       "    <tr style=\"text-align: right;\">\n",
       "      <th></th>\n",
       "      <th>movieid</th>\n",
       "      <th>title</th>\n",
       "      <th>genres</th>\n",
       "      <th>release_date</th>\n",
       "    </tr>\n",
       "  </thead>\n",
       "  <tbody>\n",
       "    <tr>\n",
       "      <th>0</th>\n",
       "      <td>1</td>\n",
       "      <td>Toy Story</td>\n",
       "      <td>Adventure|Animation|Children|Comedy|Fantasy</td>\n",
       "      <td>1995</td>\n",
       "    </tr>\n",
       "    <tr>\n",
       "      <th>1</th>\n",
       "      <td>2</td>\n",
       "      <td>Jumanji</td>\n",
       "      <td>Adventure|Children|Fantasy</td>\n",
       "      <td>1995</td>\n",
       "    </tr>\n",
       "    <tr>\n",
       "      <th>2</th>\n",
       "      <td>3</td>\n",
       "      <td>Grumpier Old Men</td>\n",
       "      <td>Comedy|Romance</td>\n",
       "      <td>1995</td>\n",
       "    </tr>\n",
       "    <tr>\n",
       "      <th>3</th>\n",
       "      <td>4</td>\n",
       "      <td>Waiting to Exhale</td>\n",
       "      <td>Comedy|Drama|Romance</td>\n",
       "      <td>1995</td>\n",
       "    </tr>\n",
       "    <tr>\n",
       "      <th>4</th>\n",
       "      <td>5</td>\n",
       "      <td>Father of the Bride Part II</td>\n",
       "      <td>Comedy</td>\n",
       "      <td>1995</td>\n",
       "    </tr>\n",
       "  </tbody>\n",
       "</table>\n",
       "</div>"
      ],
      "text/plain": [
       "   movieid                        title  \\\n",
       "0        1                    Toy Story   \n",
       "1        2                      Jumanji   \n",
       "2        3             Grumpier Old Men   \n",
       "3        4            Waiting to Exhale   \n",
       "4        5  Father of the Bride Part II   \n",
       "\n",
       "                                        genres release_date  \n",
       "0  Adventure|Animation|Children|Comedy|Fantasy         1995  \n",
       "1                   Adventure|Children|Fantasy         1995  \n",
       "2                               Comedy|Romance         1995  \n",
       "3                         Comedy|Drama|Romance         1995  \n",
       "4                                       Comedy         1995  "
      ]
     },
     "execution_count": 35,
     "metadata": {},
     "output_type": "execute_result"
    }
   ],
   "source": [
    "# create release date column\n",
    "movies['release_date'] = movies['title'].str.extract(r\"\\((\\d+)\\)\")\n",
    "\n",
    "## clean titels and store back to column title\n",
    "movies['title'] = movies['title'].apply(preprocess_movie_title)\n",
    "\n",
    "movies.head()"
   ]
  },
  {
   "cell_type": "markdown",
   "id": "b79c164f",
   "metadata": {},
   "source": [
    "### popular_movies_by_date"
   ]
  },
  {
   "cell_type": "code",
   "execution_count": 38,
   "id": "48c3f547",
   "metadata": {},
   "outputs": [
    {
     "name": "stdout",
     "output_type": "stream",
     "text": [
      "          movieid  rating            timestamp  year\n",
      "0               2     3.5  2005-04-02 23:53:47  2005\n",
      "1              29     3.5  2005-04-02 23:31:16  2005\n",
      "2              32     3.5  2005-04-02 23:33:39  2005\n",
      "3              47     3.5  2005-04-02 23:32:07  2005\n",
      "4              50     3.5  2005-04-02 23:29:40  2005\n",
      "...           ...     ...                  ...   ...\n",
      "20000258    68954     4.5  2009-11-13 15:42:00  2009\n",
      "20000259    69526     4.5  2009-12-03 18:31:48  2009\n",
      "20000260    69644     3.0  2009-12-07 18:10:57  2009\n",
      "20000261    70286     5.0  2009-11-13 15:42:24  2009\n",
      "20000262    71619     2.5  2009-10-17 20:25:36  2009\n",
      "\n",
      "[20000263 rows x 4 columns]\n"
     ]
    }
   ],
   "source": [
    "# create year column for partition key\n",
    "ratings['year'] = ratings['timestamp'].apply(lambda x: int(x[:4]))"
   ]
  },
  {
   "cell_type": "code",
   "execution_count": 41,
   "id": "5b928cf6",
   "metadata": {},
   "outputs": [
    {
     "data": {
      "text/html": [
       "<div>\n",
       "<style scoped>\n",
       "    .dataframe tbody tr th:only-of-type {\n",
       "        vertical-align: middle;\n",
       "    }\n",
       "\n",
       "    .dataframe tbody tr th {\n",
       "        vertical-align: top;\n",
       "    }\n",
       "\n",
       "    .dataframe thead th {\n",
       "        text-align: right;\n",
       "    }\n",
       "</style>\n",
       "<table border=\"1\" class=\"dataframe\">\n",
       "  <thead>\n",
       "    <tr style=\"text-align: right;\">\n",
       "      <th></th>\n",
       "      <th>movieid</th>\n",
       "      <th>title</th>\n",
       "      <th>genres</th>\n",
       "      <th>rating</th>\n",
       "      <th>timestamp</th>\n",
       "      <th>year</th>\n",
       "    </tr>\n",
       "  </thead>\n",
       "  <tbody>\n",
       "    <tr>\n",
       "      <th>0</th>\n",
       "      <td>1</td>\n",
       "      <td>Toy Story</td>\n",
       "      <td>Adventure|Animation|Children|Comedy|Fantasy</td>\n",
       "      <td>4.0</td>\n",
       "      <td>1999-12-11 13:36:47</td>\n",
       "      <td>1999</td>\n",
       "    </tr>\n",
       "    <tr>\n",
       "      <th>1</th>\n",
       "      <td>1</td>\n",
       "      <td>Toy Story</td>\n",
       "      <td>Adventure|Animation|Children|Comedy|Fantasy</td>\n",
       "      <td>5.0</td>\n",
       "      <td>1997-03-13 17:50:52</td>\n",
       "      <td>1997</td>\n",
       "    </tr>\n",
       "    <tr>\n",
       "      <th>2</th>\n",
       "      <td>1</td>\n",
       "      <td>Toy Story</td>\n",
       "      <td>Adventure|Animation|Children|Comedy|Fantasy</td>\n",
       "      <td>4.0</td>\n",
       "      <td>1996-06-05 13:37:51</td>\n",
       "      <td>1996</td>\n",
       "    </tr>\n",
       "    <tr>\n",
       "      <th>3</th>\n",
       "      <td>1</td>\n",
       "      <td>Toy Story</td>\n",
       "      <td>Adventure|Animation|Children|Comedy|Fantasy</td>\n",
       "      <td>4.0</td>\n",
       "      <td>1999-11-25 02:44:47</td>\n",
       "      <td>1999</td>\n",
       "    </tr>\n",
       "    <tr>\n",
       "      <th>4</th>\n",
       "      <td>1</td>\n",
       "      <td>Toy Story</td>\n",
       "      <td>Adventure|Animation|Children|Comedy|Fantasy</td>\n",
       "      <td>4.5</td>\n",
       "      <td>2009-01-02 01:13:41</td>\n",
       "      <td>2009</td>\n",
       "    </tr>\n",
       "    <tr>\n",
       "      <th>5</th>\n",
       "      <td>1</td>\n",
       "      <td>Toy Story</td>\n",
       "      <td>Adventure|Animation|Children|Comedy|Fantasy</td>\n",
       "      <td>4.0</td>\n",
       "      <td>1997-03-22 20:48:38</td>\n",
       "      <td>1997</td>\n",
       "    </tr>\n",
       "    <tr>\n",
       "      <th>6</th>\n",
       "      <td>1</td>\n",
       "      <td>Toy Story</td>\n",
       "      <td>Adventure|Animation|Children|Comedy|Fantasy</td>\n",
       "      <td>4.0</td>\n",
       "      <td>1996-11-27 08:21:31</td>\n",
       "      <td>1996</td>\n",
       "    </tr>\n",
       "    <tr>\n",
       "      <th>7</th>\n",
       "      <td>1</td>\n",
       "      <td>Toy Story</td>\n",
       "      <td>Adventure|Animation|Children|Comedy|Fantasy</td>\n",
       "      <td>4.5</td>\n",
       "      <td>2008-10-29 20:13:59</td>\n",
       "      <td>2008</td>\n",
       "    </tr>\n",
       "    <tr>\n",
       "      <th>8</th>\n",
       "      <td>1</td>\n",
       "      <td>Toy Story</td>\n",
       "      <td>Adventure|Animation|Children|Comedy|Fantasy</td>\n",
       "      <td>3.0</td>\n",
       "      <td>2001-05-27 13:22:52</td>\n",
       "      <td>2001</td>\n",
       "    </tr>\n",
       "    <tr>\n",
       "      <th>9</th>\n",
       "      <td>1</td>\n",
       "      <td>Toy Story</td>\n",
       "      <td>Adventure|Animation|Children|Comedy|Fantasy</td>\n",
       "      <td>5.0</td>\n",
       "      <td>1997-02-05 21:03:48</td>\n",
       "      <td>1997</td>\n",
       "    </tr>\n",
       "  </tbody>\n",
       "</table>\n",
       "</div>"
      ],
      "text/plain": [
       "   movieid      title                                       genres  rating  \\\n",
       "0        1  Toy Story  Adventure|Animation|Children|Comedy|Fantasy     4.0   \n",
       "1        1  Toy Story  Adventure|Animation|Children|Comedy|Fantasy     5.0   \n",
       "2        1  Toy Story  Adventure|Animation|Children|Comedy|Fantasy     4.0   \n",
       "3        1  Toy Story  Adventure|Animation|Children|Comedy|Fantasy     4.0   \n",
       "4        1  Toy Story  Adventure|Animation|Children|Comedy|Fantasy     4.5   \n",
       "5        1  Toy Story  Adventure|Animation|Children|Comedy|Fantasy     4.0   \n",
       "6        1  Toy Story  Adventure|Animation|Children|Comedy|Fantasy     4.0   \n",
       "7        1  Toy Story  Adventure|Animation|Children|Comedy|Fantasy     4.5   \n",
       "8        1  Toy Story  Adventure|Animation|Children|Comedy|Fantasy     3.0   \n",
       "9        1  Toy Story  Adventure|Animation|Children|Comedy|Fantasy     5.0   \n",
       "\n",
       "             timestamp  year  \n",
       "0  1999-12-11 13:36:47  1999  \n",
       "1  1997-03-13 17:50:52  1997  \n",
       "2  1996-06-05 13:37:51  1996  \n",
       "3  1999-11-25 02:44:47  1999  \n",
       "4  2009-01-02 01:13:41  2009  \n",
       "5  1997-03-22 20:48:38  1997  \n",
       "6  1996-11-27 08:21:31  1996  \n",
       "7  2008-10-29 20:13:59  2008  \n",
       "8  2001-05-27 13:22:52  2001  \n",
       "9  1997-02-05 21:03:48  1997  "
      ]
     },
     "execution_count": 41,
     "metadata": {},
     "output_type": "execute_result"
    }
   ],
   "source": [
    "# left join with ratings\n",
    "popular_movies_by_date = merge(left=movies.loc[:, 'movieid':'genres'], right=ratings, left_on='movieid', right_on='movieid')\n",
    "popular_movies_by_date[:10]"
   ]
  },
  {
   "cell_type": "markdown",
   "id": "ba77472d",
   "metadata": {},
   "source": [
    "### Insert data to table popular_movies_by_date"
   ]
  },
  {
   "cell_type": "code",
   "execution_count": 42,
   "id": "88636eb6",
   "metadata": {},
   "outputs": [],
   "source": [
    "popular_movies_by_date[0::10000].to_csv(mypath+'Datastax_denormalized/popular_movies_by_date.csv', index=0)"
   ]
  },
  {
   "cell_type": "code",
   "execution_count": 45,
   "id": "ca7a1a6f",
   "metadata": {},
   "outputs": [
    {
     "name": "stdout",
     "output_type": "stream",
     "text": [
      "C:/dsbulk-1.9.0/dsbulk-1.9.0/bin/dsbulk load -url C:/Users/giwrg/Downloads/BigData/Datastax_denormalized/popular_movies_by_date.csv -k big_data -t popular_movies_by_date -cl ALL -b C:/Users/giwrg/Downloads/BigData/secure-connect-bigdataproject2022.zip -u ZeYCAzFQsZzBoJQgHJWSitoc -p 8IZ_YFm-E,4g28Q.kw.JleZ5h,BdjYmFTUMZkKk2n5r8k7N0LtGILx3g44yeWo1yr7N,XTLZpu0,DwUHpBcUb8aziYEckRalTgh8.WnbJOuqrwpMcrl..As90BZYzJDj -header true\n",
      "CompletedProcess(args=['C:/dsbulk-1.9.0/dsbulk-1.9.0/bin/dsbulk', 'load', '-url', 'C:/Users/giwrg/Downloads/BigData/Datastax_denormalized/popular_movies_by_date.csv', '-k', 'big_data', '-t', 'popular_movies_by_date', '-cl', 'ALL', '-b', 'C:/Users/giwrg/Downloads/BigData/secure-connect-bigdataproject2022.zip', '-u', 'ZeYCAzFQsZzBoJQgHJWSitoc', '-p', '8IZ_YFm-E,4g28Q.kw.JleZ5h,BdjYmFTUMZkKk2n5r8k7N0LtGILx3g44yeWo1yr7N,XTLZpu0,DwUHpBcUb8aziYEckRalTgh8.WnbJOuqrwpMcrl..As90BZYzJDj', '-header', 'true'], returncode=0, stdout=b'', stderr=b'Username and password provided but auth provider not specified, inferring PlainTextAuthProvider\\r\\nA cloud secure connect bundle was provided: ignoring all explicit contact points.\\r\\nOperation directory: C:\\\\Users\\\\giwrg\\\\BigData\\\\logs\\\\LOAD_20220624-130627-072000\\r\\ntotal | failed | rows/s |  p50ms |    p99ms |   p999ms | batches\\r\\n2.001 |      0 |    596 | 539,20 | 1.820,33 | 2.231,37 |    7,79\\r\\nOperation LOAD_20220624-130627-072000 completed successfully in 2 seconds.\\r\\nLast processed positions can be found in positions.txt\\r\\n')\n"
     ]
    }
   ],
   "source": [
    "upload_data_to_cassandra(keyspace, 'popular_movies_by_date', 'popular_movies_by_date.csv', client_id, client_secret)"
   ]
  },
  {
   "cell_type": "markdown",
   "id": "d2c36888",
   "metadata": {},
   "source": [
    "### Retrieve data from popular_movies_by_date"
   ]
  },
  {
   "cell_type": "code",
   "execution_count": 51,
   "id": "19a5714a",
   "metadata": {},
   "outputs": [],
   "source": [
    "def select_from_popular_movies_by_date(start_date, end_date):\n",
    "    Q1 = f\"SELECT * FROM big_data.popular_movies_by_date WHERE year=? and timestamp >= ? and timestamp <= ?;\"\n",
    "    prepared = session.prepare(Q1)\n",
    "    sd = to_datetime(start_date)\n",
    "    ed = to_datetime(end_date)\n",
    "    if sd.year == ed.year:\n",
    "        rows = session.execute(prepared, (sd.year, sd, ed))\n",
    "        for row in rows:\n",
    "            print(f\"Title: {row.title} Rating: {row.rating:.1f}\")"
   ]
  },
  {
   "cell_type": "code",
   "execution_count": 52,
   "id": "cc1380cd",
   "metadata": {},
   "outputs": [
    {
     "name": "stdout",
     "output_type": "stream",
     "text": [
      "Title: The Dark Knight Rating: 5.0\n",
      "Title: Beasts of the Southern Wild Rating: 3.0\n",
      "Title: Me and You and Everyone We Know Rating: 4.5\n",
      "Title: Fight Club Rating: 3.5\n",
      "Title: Hannibal Rising Rating: 4.0\n",
      "Title: Vegas Vacation Rating: 3.0\n",
      "Title: A Nightmare on Elm Street Rating: 4.0\n",
      "Title: The Best Exotic Marigold Hotel Rating: 3.5\n"
     ]
    }
   ],
   "source": [
    "select_from_popular_movies_by_date('2013-01-01', '2013-02-01')"
   ]
  },
  {
   "cell_type": "markdown",
   "id": "d94e88a2",
   "metadata": {},
   "source": [
    "## Q2"
   ]
  },
  {
   "cell_type": "markdown",
   "id": "8ae0d256",
   "metadata": {},
   "source": [
    "### Preprocess and denormalize data for Q2"
   ]
  },
  {
   "cell_type": "code",
   "execution_count": null,
   "id": "fc211d38",
   "metadata": {},
   "outputs": [],
   "source": []
  },
  {
   "cell_type": "markdown",
   "id": "014bc34c",
   "metadata": {},
   "source": [
    "# Q3"
   ]
  },
  {
   "cell_type": "markdown",
   "id": "88b91cb0",
   "metadata": {},
   "source": [
    "## Model data for Q3"
   ]
  },
  {
   "cell_type": "code",
   "execution_count": 59,
   "id": "d6d42bf1",
   "metadata": {},
   "outputs": [
    {
     "data": {
      "text/html": [
       "<div>\n",
       "<style scoped>\n",
       "    .dataframe tbody tr th:only-of-type {\n",
       "        vertical-align: middle;\n",
       "    }\n",
       "\n",
       "    .dataframe tbody tr th {\n",
       "        vertical-align: top;\n",
       "    }\n",
       "\n",
       "    .dataframe thead th {\n",
       "        text-align: right;\n",
       "    }\n",
       "</style>\n",
       "<table border=\"1\" class=\"dataframe\">\n",
       "  <thead>\n",
       "    <tr style=\"text-align: right;\">\n",
       "      <th></th>\n",
       "      <th>genre</th>\n",
       "      <th>movieid</th>\n",
       "      <th>title</th>\n",
       "      <th>release_date</th>\n",
       "      <th>avg_rating</th>\n",
       "    </tr>\n",
       "  </thead>\n",
       "  <tbody>\n",
       "    <tr>\n",
       "      <th>0</th>\n",
       "      <td>Adventure</td>\n",
       "      <td>1</td>\n",
       "      <td>Toy Story</td>\n",
       "      <td>1995</td>\n",
       "      <td>3.9</td>\n",
       "    </tr>\n",
       "    <tr>\n",
       "      <th>1</th>\n",
       "      <td>Animation</td>\n",
       "      <td>1</td>\n",
       "      <td>Toy Story</td>\n",
       "      <td>1995</td>\n",
       "      <td>3.9</td>\n",
       "    </tr>\n",
       "    <tr>\n",
       "      <th>2</th>\n",
       "      <td>Children</td>\n",
       "      <td>1</td>\n",
       "      <td>Toy Story</td>\n",
       "      <td>1995</td>\n",
       "      <td>3.9</td>\n",
       "    </tr>\n",
       "    <tr>\n",
       "      <th>3</th>\n",
       "      <td>Comedy</td>\n",
       "      <td>1</td>\n",
       "      <td>Toy Story</td>\n",
       "      <td>1995</td>\n",
       "      <td>3.9</td>\n",
       "    </tr>\n",
       "    <tr>\n",
       "      <th>4</th>\n",
       "      <td>Fantasy</td>\n",
       "      <td>1</td>\n",
       "      <td>Toy Story</td>\n",
       "      <td>1995</td>\n",
       "      <td>3.9</td>\n",
       "    </tr>\n",
       "    <tr>\n",
       "      <th>...</th>\n",
       "      <td>...</td>\n",
       "      <td>...</td>\n",
       "      <td>...</td>\n",
       "      <td>...</td>\n",
       "      <td>...</td>\n",
       "    </tr>\n",
       "    <tr>\n",
       "      <th>53414</th>\n",
       "      <td>Adventure</td>\n",
       "      <td>131258</td>\n",
       "      <td>The Pirates</td>\n",
       "      <td>2014</td>\n",
       "      <td>2.5</td>\n",
       "    </tr>\n",
       "    <tr>\n",
       "      <th>53415</th>\n",
       "      <td>(no genres listed)</td>\n",
       "      <td>131260</td>\n",
       "      <td>Rentun Ruusu</td>\n",
       "      <td>2001</td>\n",
       "      <td>3.0</td>\n",
       "    </tr>\n",
       "    <tr>\n",
       "      <th>53416</th>\n",
       "      <td>Adventure</td>\n",
       "      <td>131262</td>\n",
       "      <td>Innocence</td>\n",
       "      <td>2014</td>\n",
       "      <td>4.0</td>\n",
       "    </tr>\n",
       "    <tr>\n",
       "      <th>53417</th>\n",
       "      <td>Fantasy</td>\n",
       "      <td>131262</td>\n",
       "      <td>Innocence</td>\n",
       "      <td>2014</td>\n",
       "      <td>4.0</td>\n",
       "    </tr>\n",
       "    <tr>\n",
       "      <th>53418</th>\n",
       "      <td>Horror</td>\n",
       "      <td>131262</td>\n",
       "      <td>Innocence</td>\n",
       "      <td>2014</td>\n",
       "      <td>4.0</td>\n",
       "    </tr>\n",
       "  </tbody>\n",
       "</table>\n",
       "<p>53419 rows × 5 columns</p>\n",
       "</div>"
      ],
      "text/plain": [
       "                    genre  movieid         title release_date  avg_rating\n",
       "0               Adventure        1     Toy Story         1995         3.9\n",
       "1               Animation        1     Toy Story         1995         3.9\n",
       "2                Children        1     Toy Story         1995         3.9\n",
       "3                  Comedy        1     Toy Story         1995         3.9\n",
       "4                 Fantasy        1     Toy Story         1995         3.9\n",
       "...                   ...      ...           ...          ...         ...\n",
       "53414           Adventure   131258   The Pirates         2014         2.5\n",
       "53415  (no genres listed)   131260  Rentun Ruusu         2001         3.0\n",
       "53416           Adventure   131262     Innocence         2014         4.0\n",
       "53417             Fantasy   131262     Innocence         2014         4.0\n",
       "53418              Horror   131262     Innocence         2014         4.0\n",
       "\n",
       "[53419 rows x 5 columns]"
      ]
     },
     "execution_count": 59,
     "metadata": {},
     "output_type": "execute_result"
    }
   ],
   "source": [
    "# split genres per row\n",
    "b = DataFrame(movies['genres'].str.split('|').tolist(), index=movies['movieid']).stack()\n",
    "b = b.reset_index()[[0, 'movieid']] \n",
    "b.columns = ['genre', 'movieid'] \n",
    "\n",
    "# left join the genres with movies\n",
    "movies_by_genre = merge(left=b, right=movies.drop(columns='genres', axis=1), left_on='movieid', right_on='movieid')\n",
    "# calc movie avg\n",
    "avgs = ratings.groupby(by='movieid')['rating'].mean().reset_index().rename(columns={'rating':'avg_rating'}).round(decimals=1)\n",
    "\n",
    "# join movies and ratins\n",
    "movies_by_genre = merge(left=movies_by_genre, right=avgs, left_on='movieid', right_on='movieid')\n",
    "\n",
    "# remove trash rows\n",
    "movies_by_genre = movies_by_genre[movies_by_genre['release_date'].str.len() == 4]\n",
    "movies_by_genre = movies_by_genre[movies_by_genre['genre'] != '(no genres listed)']\n",
    "\n",
    "movies_by_genre"
   ]
  },
  {
   "cell_type": "markdown",
   "id": "b4f798cd",
   "metadata": {},
   "source": [
    "### Store file and Insert to movies_by_genre"
   ]
  },
  {
   "cell_type": "code",
   "execution_count": null,
   "id": "e9a1eace",
   "metadata": {},
   "outputs": [],
   "source": [
    "# store to csv\n",
    "movies_by_genre.to_csv(deromalized_path + 'movies_by_genre.csv', index=0)\n",
    "upload_data_to_cassandra(keyspace, 'movies_by_genre', 'movies_by_genre.csv', client_id, client_secret)"
   ]
  },
  {
   "cell_type": "markdown",
   "id": "33f551e7",
   "metadata": {},
   "source": [
    "### Retrieve data from movies_by_genre"
   ]
  },
  {
   "cell_type": "code",
   "execution_count": 63,
   "id": "5b563f89",
   "metadata": {},
   "outputs": [],
   "source": [
    "def select_from_movies_by_genre(genre, limit=10):\n",
    "    Q3 = f\"SELECT title, avg_rating, release_date FROM movies_by_genre WHERE genre='{genre}' ORDER BY release_date ASC LIMIT {limit};\"\n",
    "    rows = session.execute(Q3)\n",
    "    for row in rows:\n",
    "        print(f\"Title: {row.title} Rating: {row.avg_rating} Release Date: {row.release_date}\")\n",
    "    "
   ]
  },
  {
   "cell_type": "code",
   "execution_count": 64,
   "id": "2b08e6c4",
   "metadata": {},
   "outputs": [
    {
     "name": "stdout",
     "output_type": "stream",
     "text": [
      "Title: A Trip to the Moon Rating: 3.7 Release Date: 1902\n",
      "Title: The Last Days of Pompeii Rating: 2.5 Release Date: 1913\n",
      "Title: Judith of Bethulia Rating: 3.3 Release Date: 1914\n",
      "Title: Cabiria Rating: 3.1 Release Date: 1914\n",
      "Title: Vampires, Les Rating: 3.4 Release Date: 1915\n",
      "Title: Judex Rating: 3.5 Release Date: 1916\n",
      "Title: 20,000 Leagues Under the Sea Rating: 3.3 Release Date: 1916\n",
      "Title: Male and Female Rating: 2.9 Release Date: 1919\n",
      "Title: The Spiders Part 1: The Golden Lake Rating: 2.8 Release Date: 1919\n",
      "Title: The Last of the Mohicans Rating: 3.4 Release Date: 1920\n"
     ]
    }
   ],
   "source": [
    "# insert_into_movies_by_genre(movies_ratings, 1)\n",
    "select_from_movies_by_genre('Adventure')"
   ]
  },
  {
   "cell_type": "markdown",
   "id": "9e3e8b36",
   "metadata": {},
   "source": [
    "## Q4"
   ]
  },
  {
   "cell_type": "code",
   "execution_count": 114,
   "id": "3506087a",
   "metadata": {},
   "outputs": [
    {
     "ename": "AttributeError",
     "evalue": "'Series' object has no attribute 'len'",
     "output_type": "error",
     "traceback": [
      "\u001b[1;31m---------------------------------------------------------------------------\u001b[0m",
      "\u001b[1;31mAttributeError\u001b[0m                            Traceback (most recent call last)",
      "Input \u001b[1;32mIn [114]\u001b[0m, in \u001b[0;36m<cell line: 4>\u001b[1;34m()\u001b[0m\n\u001b[0;32m      2\u001b[0m tags \u001b[38;5;241m=\u001b[39m tags\u001b[38;5;241m.\u001b[39mrename(columns\u001b[38;5;241m=\u001b[39m{\u001b[38;5;124m'\u001b[39m\u001b[38;5;124mmovieId\u001b[39m\u001b[38;5;124m'\u001b[39m:\u001b[38;5;124m'\u001b[39m\u001b[38;5;124mmovieid\u001b[39m\u001b[38;5;124m'\u001b[39m})\n\u001b[0;32m      3\u001b[0m tags[\u001b[38;5;124m'\u001b[39m\u001b[38;5;124mtag\u001b[39m\u001b[38;5;124m'\u001b[39m]\u001b[38;5;241m.\u001b[39mreplace(\u001b[38;5;124mr\u001b[39m\u001b[38;5;124m'\u001b[39m\u001b[38;5;124m[^\u001b[39m\u001b[38;5;124m\\\u001b[39m\u001b[38;5;124mw\u001b[39m\u001b[38;5;124m\\\u001b[39m\u001b[38;5;124ms]\u001b[39m\u001b[38;5;124m'\u001b[39m,\u001b[38;5;124m'\u001b[39m\u001b[38;5;124m'\u001b[39m,regex\u001b[38;5;241m=\u001b[39m\u001b[38;5;28;01mTrue\u001b[39;00m, inplace \u001b[38;5;241m=\u001b[39m \u001b[38;5;28;01mTrue\u001b[39;00m)\n\u001b[1;32m----> 4\u001b[0m tags \u001b[38;5;241m=\u001b[39m tags[\u001b[43mtags\u001b[49m\u001b[43m[\u001b[49m\u001b[38;5;124;43m'\u001b[39;49m\u001b[38;5;124;43mtag\u001b[39;49m\u001b[38;5;124;43m'\u001b[39;49m\u001b[43m]\u001b[49m\u001b[38;5;241;43m.\u001b[39;49m\u001b[43mlen\u001b[49m() \u001b[38;5;241m>\u001b[39m \u001b[38;5;241m1\u001b[39m]\n\u001b[0;32m      5\u001b[0m tags\u001b[38;5;241m.\u001b[39mhead()\n",
      "File \u001b[1;32mC:\\Python\\Python310\\lib\\site-packages\\pandas\\core\\generic.py:5575\u001b[0m, in \u001b[0;36mNDFrame.__getattr__\u001b[1;34m(self, name)\u001b[0m\n\u001b[0;32m   5568\u001b[0m \u001b[38;5;28;01mif\u001b[39;00m (\n\u001b[0;32m   5569\u001b[0m     name \u001b[38;5;129;01mnot\u001b[39;00m \u001b[38;5;129;01min\u001b[39;00m \u001b[38;5;28mself\u001b[39m\u001b[38;5;241m.\u001b[39m_internal_names_set\n\u001b[0;32m   5570\u001b[0m     \u001b[38;5;129;01mand\u001b[39;00m name \u001b[38;5;129;01mnot\u001b[39;00m \u001b[38;5;129;01min\u001b[39;00m \u001b[38;5;28mself\u001b[39m\u001b[38;5;241m.\u001b[39m_metadata\n\u001b[0;32m   5571\u001b[0m     \u001b[38;5;129;01mand\u001b[39;00m name \u001b[38;5;129;01mnot\u001b[39;00m \u001b[38;5;129;01min\u001b[39;00m \u001b[38;5;28mself\u001b[39m\u001b[38;5;241m.\u001b[39m_accessors\n\u001b[0;32m   5572\u001b[0m     \u001b[38;5;129;01mand\u001b[39;00m \u001b[38;5;28mself\u001b[39m\u001b[38;5;241m.\u001b[39m_info_axis\u001b[38;5;241m.\u001b[39m_can_hold_identifiers_and_holds_name(name)\n\u001b[0;32m   5573\u001b[0m ):\n\u001b[0;32m   5574\u001b[0m     \u001b[38;5;28;01mreturn\u001b[39;00m \u001b[38;5;28mself\u001b[39m[name]\n\u001b[1;32m-> 5575\u001b[0m \u001b[38;5;28;01mreturn\u001b[39;00m \u001b[38;5;28;43mobject\u001b[39;49m\u001b[38;5;241;43m.\u001b[39;49m\u001b[38;5;21;43m__getattribute__\u001b[39;49m\u001b[43m(\u001b[49m\u001b[38;5;28;43mself\u001b[39;49m\u001b[43m,\u001b[49m\u001b[43m \u001b[49m\u001b[43mname\u001b[49m\u001b[43m)\u001b[49m\n",
      "\u001b[1;31mAttributeError\u001b[0m: 'Series' object has no attribute 'len'"
     ]
    }
   ],
   "source": [
    "tags = read_csv(mypath+'archive/tag.csv', usecols=['movieId', 'tag'])\n",
    "tags = tags.rename(columns={'movieId':'movieid'})\n",
    "tags['tag'].replace(r'[^\\w\\s]','',regex=True, inplace = True)\n",
    "tags = tags[tags['tag'].str.len() > 1]\n",
    "\n",
    "tags.head()"
   ]
  },
  {
   "cell_type": "code",
   "execution_count": 91,
   "id": "d4c16673",
   "metadata": {},
   "outputs": [
    {
     "name": "stdout",
     "output_type": "stream",
     "text": [
      "(465564, 4)\n"
     ]
    },
    {
     "data": {
      "text/html": [
       "<div>\n",
       "<style scoped>\n",
       "    .dataframe tbody tr th:only-of-type {\n",
       "        vertical-align: middle;\n",
       "    }\n",
       "\n",
       "    .dataframe tbody tr th {\n",
       "        vertical-align: top;\n",
       "    }\n",
       "\n",
       "    .dataframe thead th {\n",
       "        text-align: right;\n",
       "    }\n",
       "</style>\n",
       "<table border=\"1\" class=\"dataframe\">\n",
       "  <thead>\n",
       "    <tr style=\"text-align: right;\">\n",
       "      <th></th>\n",
       "      <th>movieid</th>\n",
       "      <th>tag</th>\n",
       "      <th>title</th>\n",
       "      <th>genres</th>\n",
       "    </tr>\n",
       "  </thead>\n",
       "  <tbody>\n",
       "    <tr>\n",
       "      <th>0</th>\n",
       "      <td>4141</td>\n",
       "      <td>Mark Waters</td>\n",
       "      <td>Head Over Heels</td>\n",
       "      <td>Comedy|Romance</td>\n",
       "    </tr>\n",
       "    <tr>\n",
       "      <th>1</th>\n",
       "      <td>4141</td>\n",
       "      <td>naive</td>\n",
       "      <td>Head Over Heels</td>\n",
       "      <td>Comedy|Romance</td>\n",
       "    </tr>\n",
       "    <tr>\n",
       "      <th>2</th>\n",
       "      <td>4141</td>\n",
       "      <td>Mark Waters</td>\n",
       "      <td>Head Over Heels</td>\n",
       "      <td>Comedy|Romance</td>\n",
       "    </tr>\n",
       "    <tr>\n",
       "      <th>3</th>\n",
       "      <td>4141</td>\n",
       "      <td>Freddie Prinze Jr</td>\n",
       "      <td>Head Over Heels</td>\n",
       "      <td>Comedy|Romance</td>\n",
       "    </tr>\n",
       "    <tr>\n",
       "      <th>4</th>\n",
       "      <td>208</td>\n",
       "      <td>dark hero</td>\n",
       "      <td>Waterworld</td>\n",
       "      <td>Action|Adventure|Sci-Fi</td>\n",
       "    </tr>\n",
       "  </tbody>\n",
       "</table>\n",
       "</div>"
      ],
      "text/plain": [
       "   movieid                tag            title                   genres\n",
       "0     4141        Mark Waters  Head Over Heels           Comedy|Romance\n",
       "1     4141              naive  Head Over Heels           Comedy|Romance\n",
       "2     4141        Mark Waters  Head Over Heels           Comedy|Romance\n",
       "3     4141  Freddie Prinze Jr  Head Over Heels           Comedy|Romance\n",
       "4      208          dark hero       Waterworld  Action|Adventure|Sci-Fi"
      ]
     },
     "execution_count": 91,
     "metadata": {},
     "output_type": "execute_result"
    }
   ],
   "source": [
    "movies_by_title = merge(left=tags, right=movies.loc[:, 'movieid':'genres'], left_on='movieid', right_on='movieid')\n",
    "print(movies_by_title.shape)\n",
    "movies_by_title.head()"
   ]
  },
  {
   "cell_type": "code",
   "execution_count": 104,
   "id": "267deeae",
   "metadata": {},
   "outputs": [
    {
     "data": {
      "text/html": [
       "<div>\n",
       "<style scoped>\n",
       "    .dataframe tbody tr th:only-of-type {\n",
       "        vertical-align: middle;\n",
       "    }\n",
       "\n",
       "    .dataframe tbody tr th {\n",
       "        vertical-align: top;\n",
       "    }\n",
       "\n",
       "    .dataframe thead th {\n",
       "        text-align: right;\n",
       "    }\n",
       "</style>\n",
       "<table border=\"1\" class=\"dataframe\">\n",
       "  <thead>\n",
       "    <tr style=\"text-align: right;\">\n",
       "      <th></th>\n",
       "      <th>movieid</th>\n",
       "      <th>tag</th>\n",
       "      <th>tag_count</th>\n",
       "      <th>title</th>\n",
       "      <th>genres</th>\n",
       "      <th>avg_rating</th>\n",
       "    </tr>\n",
       "  </thead>\n",
       "  <tbody>\n",
       "    <tr>\n",
       "      <th>0</th>\n",
       "      <td>1</td>\n",
       "      <td>2009 reissue in Stereoscopic 3D</td>\n",
       "      <td>1</td>\n",
       "      <td>Toy Story</td>\n",
       "      <td>Adventure|Animation|Children|Comedy|Fantasy</td>\n",
       "      <td>3.9</td>\n",
       "    </tr>\n",
       "    <tr>\n",
       "      <th>1</th>\n",
       "      <td>1</td>\n",
       "      <td>3D</td>\n",
       "      <td>1</td>\n",
       "      <td>Toy Story</td>\n",
       "      <td>Adventure|Animation|Children|Comedy|Fantasy</td>\n",
       "      <td>3.9</td>\n",
       "    </tr>\n",
       "    <tr>\n",
       "      <th>2</th>\n",
       "      <td>1</td>\n",
       "      <td>55 movies every kid should seeEntertainment We...</td>\n",
       "      <td>1</td>\n",
       "      <td>Toy Story</td>\n",
       "      <td>Adventure|Animation|Children|Comedy|Fantasy</td>\n",
       "      <td>3.9</td>\n",
       "    </tr>\n",
       "    <tr>\n",
       "      <th>3</th>\n",
       "      <td>1</td>\n",
       "      <td>Animation</td>\n",
       "      <td>1</td>\n",
       "      <td>Toy Story</td>\n",
       "      <td>Adventure|Animation|Children|Comedy|Fantasy</td>\n",
       "      <td>3.9</td>\n",
       "    </tr>\n",
       "    <tr>\n",
       "      <th>4</th>\n",
       "      <td>1</td>\n",
       "      <td>BDVideo</td>\n",
       "      <td>1</td>\n",
       "      <td>Toy Story</td>\n",
       "      <td>Adventure|Animation|Children|Comedy|Fantasy</td>\n",
       "      <td>3.9</td>\n",
       "    </tr>\n",
       "  </tbody>\n",
       "</table>\n",
       "</div>"
      ],
      "text/plain": [
       "   movieid                                                tag  tag_count  \\\n",
       "0        1                    2009 reissue in Stereoscopic 3D          1   \n",
       "1        1                                                 3D          1   \n",
       "2        1  55 movies every kid should seeEntertainment We...          1   \n",
       "3        1                                          Animation          1   \n",
       "4        1                                            BDVideo          1   \n",
       "\n",
       "       title                                       genres  avg_rating  \n",
       "0  Toy Story  Adventure|Animation|Children|Comedy|Fantasy         3.9  \n",
       "1  Toy Story  Adventure|Animation|Children|Comedy|Fantasy         3.9  \n",
       "2  Toy Story  Adventure|Animation|Children|Comedy|Fantasy         3.9  \n",
       "3  Toy Story  Adventure|Animation|Children|Comedy|Fantasy         3.9  \n",
       "4  Toy Story  Adventure|Animation|Children|Comedy|Fantasy         3.9  "
      ]
     },
     "execution_count": 104,
     "metadata": {},
     "output_type": "execute_result"
    }
   ],
   "source": [
    "movies_by_title = movies_by_title.groupby(by=['movieid', 'tag'])['tag'].count().reset_index(name='tag_count')\n",
    "movies_by_title = merge(left=movies_by_title, right=movies.loc[:, 'movieid':'genres'], left_on='movieid', right_on='movieid')\n",
    "movie_info_by_title = merge(left=movies_by_title, right=avgs, left_on='movieid', right_on='movieid')\n",
    "print(movie_info_by_title.shape)\n",
    "movie_info_by_title.head()"
   ]
  },
  {
   "cell_type": "markdown",
   "id": "1fd033b1",
   "metadata": {},
   "source": [
    "### Store file and Insert to movies_by_title"
   ]
  },
  {
   "cell_type": "code",
   "execution_count": 109,
   "id": "999612b3",
   "metadata": {},
   "outputs": [
    {
     "name": "stdout",
     "output_type": "stream",
     "text": [
      "C:/dsbulk-1.9.0/dsbulk-1.9.0/bin/dsbulk load -url C:/Users/giwrg/Downloads/BigData/Datastax_denormalized/movies_by_title.csv -k big_data -t movies_by_title -cl ALL -b C:/Users/giwrg/Downloads/BigData/secure-connect-bigdataproject2022.zip -u ZeYCAzFQsZzBoJQgHJWSitoc -p 8IZ_YFm-E,4g28Q.kw.JleZ5h,BdjYmFTUMZkKk2n5r8k7N0LtGILx3g44yeWo1yr7N,XTLZpu0,DwUHpBcUb8aziYEckRalTgh8.WnbJOuqrwpMcrl..As90BZYzJDj -header true\n",
      "CompletedProcess(args=['C:/dsbulk-1.9.0/dsbulk-1.9.0/bin/dsbulk', 'load', '-url', 'C:/Users/giwrg/Downloads/BigData/Datastax_denormalized/movies_by_title.csv', '-k', 'big_data', '-t', 'movies_by_title', '-cl', 'ALL', '-b', 'C:/Users/giwrg/Downloads/BigData/secure-connect-bigdataproject2022.zip', '-u', 'ZeYCAzFQsZzBoJQgHJWSitoc', '-p', '8IZ_YFm-E,4g28Q.kw.JleZ5h,BdjYmFTUMZkKk2n5r8k7N0LtGILx3g44yeWo1yr7N,XTLZpu0,DwUHpBcUb8aziYEckRalTgh8.WnbJOuqrwpMcrl..As90BZYzJDj', '-header', 'true'], returncode=0, stdout=b'', stderr=b'Username and password provided but auth provider not specified, inferring PlainTextAuthProvider\\r\\nA cloud secure connect bundle was provided: ignoring all explicit contact points.\\r\\nOperation directory: C:\\\\Users\\\\giwrg\\\\BigData\\\\logs\\\\LOAD_20220624-135624-845000\\r\\ntotal | failed | rows/s |    p50ms |    p99ms |   p999ms | batches\\r\\n4.480 |      0 |    599 | 1.229,67 | 3.389,00 | 4.429,19 |   13,70\\r\\ntotal | failed | rows/s |    p50ms |    p99ms |   p999ms | batches\\r\\n8.192 |      0 |    666 | 1.246,46 | 4.076,86 | 4.328,52 |   14,08\\r\\n total | failed | rows/s |    p50ms |    p99ms |   p999ms | batches\\r\\n11.776 |      0 |    675 | 1.289,63 | 4.429,19 | 7.952,40 |   13,97\\r\\n total | failed | rows/s |    p50ms |    p99ms |   p999ms | batches\\r\\n15.488 |      0 |    679 | 1.268,95 | 4.429,19 | 7.952,40 |   13,96\\r\\n total | failed | rows/s |    p50ms |    p99ms |   p999ms | batches\\r\\n19.072 |      0 |    688 | 1.357,20 | 4.664,07 | 8.153,73 |   14,26\\r\\n total | failed | rows/s |    p50ms |    p99ms |   p999ms | batches\\r\\n23.040 |      0 |    690 | 1.428,05 | 4.898,95 | 8.153,73 |   15,37\\r\\n total | failed | rows/s |    p50ms |    p99ms |    p999ms | batches\\r\\n26.368 |      0 |    699 | 1.509,62 | 5.838,47 | 11.408,51 |   15,60\\r\\n total | failed | rows/s |    p50ms |    p99ms |    p999ms | batches\\r\\n30.080 |      0 |    711 | 1.509,26 | 5.838,47 | 11.408,51 |   15,29\\r\\n total | failed | rows/s |    p50ms |    p99ms |    p999ms | batches\\r\\n33.920 |      0 |    710 | 1.471,83 | 5.536,48 | 11.341,40 |   14,86\\r\\n total | failed | rows/s |    p50ms |    p99ms |    p999ms | batches\\r\\n37.120 |      0 |    711 | 1.476,44 | 5.536,48 | 11.341,40 |   14,92\\r\\nAt least 1 record does not match the provided schema.mapping or schema.query. Please check that the connector configuration and the schema configuration are correct.\\r\\n total | failed | rows/s |    p50ms |    p99ms |    p999ms | batches\\r\\n40.960 |      1 |    714 | 1.462,08 | 5.536,48 | 11.274,29 |   14,84\\r\\n total | failed | rows/s |    p50ms |    p99ms |   p999ms | batches\\r\\n44.160 |      1 |    708 | 1.460,31 | 5.536,48 | 8.153,73 |   14,53\\r\\n total | failed | rows/s |    p50ms |    p99ms |   p999ms | batches\\r\\n48.000 |      1 |    709 | 1.441,76 | 5.536,48 | 8.153,73 |   14,38\\r\\n total | failed | rows/s |    p50ms |    p99ms |   p999ms | batches\\r\\n51.712 |      1 |    713 | 1.431,76 | 5.402,26 | 8.153,73 |   14,09\\r\\n total | failed | rows/s |    p50ms |    p99ms |   p999ms | batches\\r\\n55.168 |      1 |    715 | 1.409,89 | 5.335,15 | 8.153,73 |   14,15\\r\\n total | failed | rows/s |    p50ms |    p99ms |   p999ms | batches\\r\\n58.880 |      1 |    717 | 1.379,17 | 5.301,60 | 8.153,73 |   14,07\\r\\n total | failed | rows/s |    p50ms |    p99ms |   p999ms | batches\\r\\n62.720 |      4 |    720 | 1.359,27 | 5.301,60 | 8.153,73 |   13,91\\r\\n total | failed | rows/s |    p50ms |    p99ms |   p999ms | batches\\r\\n66.432 |      4 |    721 | 1.335,70 | 5.301,60 | 8.153,73 |   13,58\\r\\n total | failed | rows/s |    p50ms |    p99ms |   p999ms | batches\\r\\n70.272 |      4 |    723 | 1.309,73 | 5.234,49 | 8.153,73 |   13,72\\r\\n total | failed | rows/s |    p50ms |    p99ms |   p999ms | batches\\r\\n73.856 |      4 |    723 | 1.288,29 | 5.200,94 | 7.952,40 |   13,25\\r\\n total | failed | rows/s |    p50ms |    p99ms |   p999ms | batches\\r\\n77.440 |      4 |    724 | 1.268,90 | 5.200,94 | 7.952,40 |   12,56\\r\\n total | failed | rows/s |    p50ms |    p99ms |    p999ms | batches\\r\\n81.408 |      6 |    726 | 1.258,30 | 5.234,49 | 11.207,18 |   12,33\\r\\n total | failed | rows/s |    p50ms |    p99ms |    p999ms | batches\\r\\n85.120 |      9 |    726 | 1.243,11 | 5.234,49 | 11.207,18 |   12,08\\r\\n total | failed | rows/s |    p50ms |    p99ms |    p999ms | batches\\r\\n88.704 |     10 |    725 | 1.232,19 | 5.234,49 | 11.207,18 |   12,15\\r\\n total | failed | rows/s |    p50ms |    p99ms |    p999ms | batches\\r\\n92.288 |     11 |    725 | 1.227,32 | 5.200,94 | 11.207,18 |   12,18\\r\\n total | failed | rows/s |    p50ms |    p99ms |    p999ms | batches\\r\\n96.128 |     13 |    726 | 1.219,36 | 5.133,83 | 11.207,18 |   12,06\\r\\n total | failed | rows/s |    p50ms |    p99ms |    p999ms | batches\\r\\n99.584 |     15 |    726 | 1.206,71 | 4.999,61 | 11.207,18 |   11,96\\r\\n  total | failed | rows/s |    p50ms |    p99ms |    p999ms | batches\\r\\n103.424 |     15 |    727 | 1.194,07 | 4.999,61 | 11.207,18 |   11,59\\r\\n  total | failed | rows/s |    p50ms |    p99ms |    p999ms | batches\\r\\n106.752 |     15 |    727 | 1.181,93 | 4.966,06 | 11.072,96 |   11,25\\r\\n  total | failed | rows/s |    p50ms |    p99ms |   p999ms | batches\\r\\n110.464 |     17 |    725 | 1.166,73 | 4.831,84 | 8.153,73 |   11,14\\r\\n  total | failed | rows/s |    p50ms |    p99ms |   p999ms | batches\\r\\n113.664 |     18 |    724 | 1.161,49 | 4.731,17 | 8.153,73 |   11,16\\r\\n  total | failed | rows/s |    p50ms |    p99ms |   p999ms | batches\\r\\n117.248 |     19 |    723 | 1.150,82 | 4.664,07 | 8.153,73 |   11,15\\r\\n  total | failed | rows/s |    p50ms |    p99ms |   p999ms | batches\\r\\n120.960 |     20 |    722 | 1.150,28 | 4.664,07 | 8.153,73 |   11,24\\r\\n  total | failed | rows/s |    p50ms |    p99ms |   p999ms | batches\\r\\n124.416 |     20 |    722 | 1.154,24 | 4.563,40 | 8.153,73 |   11,20\\r\\n  total | failed | rows/s |    p50ms |    p99ms |   p999ms | batches\\r\\n128.256 |     20 |    723 | 1.150,85 | 4.529,85 | 8.153,73 |   11,25\\r\\n  total | failed | rows/s |    p50ms |    p99ms |   p999ms | batches\\r\\n131.712 |     22 |    723 | 1.150,80 | 4.496,29 | 8.153,73 |   11,22\\r\\n  total | failed | rows/s |    p50ms |    p99ms |   p999ms | batches\\r\\n135.424 |     23 |    723 | 1.145,86 | 4.496,29 | 8.153,73 |   11,21\\r\\n  total | failed | rows/s |    p50ms |    p99ms |   p999ms | batches\\r\\n139.008 |     27 |    721 | 1.142,29 | 4.429,19 | 8.153,73 |   11,26\\r\\n  total | failed | rows/s |    p50ms |    p99ms |   p999ms | batches\\r\\n142.336 |     29 |    722 | 1.144,43 | 4.429,19 | 7.985,95 |   11,21\\r\\n  total | failed | rows/s |    p50ms |    p99ms |   p999ms | batches\\r\\n146.176 |     35 |    722 | 1.138,44 | 4.395,63 | 7.985,95 |   11,19\\r\\n  total | failed | rows/s |    p50ms |    p99ms |   p999ms | batches\\r\\n149.760 |     36 |    723 | 1.134,74 | 4.395,63 | 7.985,95 |   11,20\\r\\n  total | failed | rows/s |    p50ms |    p99ms |   p999ms | batches\\r\\n153.344 |     36 |    722 | 1.129,43 | 4.362,08 | 7.985,95 |   11,12\\r\\n  total | failed | rows/s |    p50ms |    p99ms |   p999ms | batches\\r\\n156.672 |     36 |    721 | 1.123,00 | 4.362,08 | 7.985,95 |   10,99\\r\\n  total | failed | rows/s |    p50ms |    p99ms |   p999ms | batches\\r\\n160.256 |     37 |    722 | 1.117,86 | 4.362,08 | 7.985,95 |   10,94\\r\\n  total | failed | rows/s |    p50ms |    p99ms |   p999ms | batches\\r\\n163.840 |     37 |    721 | 1.109,13 | 4.328,52 | 7.985,95 |   10,79\\r\\n  total | failed | rows/s |    p50ms |    p99ms |   p999ms | batches\\r\\n167.424 |     37 |    721 | 1.101,71 | 4.328,52 | 7.985,95 |   10,74\\r\\n  total | failed | rows/s |    p50ms |    p99ms |   p999ms | batches\\r\\n170.880 |     37 |    721 | 1.093,43 | 4.294,97 | 7.985,95 |   10,54\\r\\n  total | failed | rows/s |    p50ms |    p99ms |   p999ms | batches\\r\\n174.208 |     37 |    720 | 1.085,30 | 4.294,97 | 7.985,95 |   10,45\\r\\n  total | failed | rows/s |    p50ms |    p99ms |   p999ms | batches\\r\\n177.664 |     37 |    719 | 1.080,11 | 4.294,97 | 7.952,40 |   10,30\\r\\n  total | failed | rows/s |    p50ms |    p99ms |   p999ms | batches\\r\\n180.992 |     37 |    718 | 1.072,20 | 4.278,19 | 7.952,40 |   10,10\\r\\n  total | failed | rows/s |    p50ms |    p99ms |   p999ms | batches\\r\\n184.448 |     37 |    718 | 1.063,10 | 4.261,41 | 7.952,40 |    9,97\\r\\n  total | failed | rows/s |    p50ms |    p99ms |   p999ms | batches\\r\\n187.904 |     37 |    717 | 1.054,65 | 4.244,64 | 7.952,40 |    9,79\\r\\n  total | failed | rows/s |    p50ms |    p99ms |   p999ms | batches\\r\\n191.232 |     37 |    716 | 1.046,41 | 4.227,86 | 7.952,40 |    9,70\\r\\n  total | failed | rows/s |    p50ms |    p99ms |   p999ms | batches\\r\\n194.560 |     37 |    716 | 1.037,45 | 4.194,30 | 7.952,40 |    9,52\\r\\n  total | failed | rows/s |    p50ms |    p99ms |   p999ms | batches\\r\\n197.760 |     37 |    715 | 1.027,32 | 4.177,53 | 7.952,40 |    9,41\\r\\n  total | failed | rows/s |    p50ms |    p99ms |   p999ms | batches\\r\\n199.388 |     37 |    713 | 1.019,44 | 4.160,75 | 7.952,40 |    9,30\\r\\nOperation LOAD_20220624-135624-845000 completed with 37 errors in 4 minutes and 39 seconds.\\r\\nRejected records can be found in the following file(s): mapping.bad\\r\\nErrors are detailed in the following file(s): mapping-errors.log\\r\\nLast processed positions can be found in positions.txt\\r\\n')\n"
     ]
    }
   ],
   "source": [
    "# store to csv\n",
    "movie_info_by_title.to_csv(deromalized_path + 'movie_info_by_title.csv', index=0)\n",
    "upload_data_to_cassandra(keyspace, 'movie_info_by_title', 'movie_info_by_title.csv', client_id, client_secret)"
   ]
  },
  {
   "cell_type": "code",
   "execution_count": 131,
   "id": "cb391d7f",
   "metadata": {},
   "outputs": [],
   "source": [
    "def select_from_movies_by_title(session, title):\n",
    "    Q4 = f\"SELECT title, genres, tag, avg_rating AS avg FROM movies_by_title WHERE title='{title}' ORDER BY tag_count LIMIT 5;\"\n",
    "    rows = session.execute(Q4)\n",
    "    print(f\"Title: {rows[0].title} \\nRating: {rows[0].avg} \\nGenres: {rows[0].genres}\")\n",
    "    print(f\"Most popular tags: \")\n",
    "    for row in rows:\n",
    "        print(row.tag)"
   ]
  },
  {
   "cell_type": "code",
   "execution_count": 132,
   "id": "e9ae1e86",
   "metadata": {},
   "outputs": [
    {
     "name": "stdout",
     "output_type": "stream",
     "text": [
      "Title: Jumanji \n",
      "Rating: 3.200000047683716 \n",
      "Genres: Adventure|Children|Fantasy\n",
      "Most popular tags: \n",
      "time travel\n",
      "time\n",
      "see alsoZathura\n",
      "scary\n",
      "not for kids\n"
     ]
    }
   ],
   "source": [
    "select_from_movies_by_title(session, 'Jumanji')"
   ]
  },
  {
   "cell_type": "markdown",
   "id": "94d33b0f",
   "metadata": {},
   "source": [
    "## Q5"
   ]
  },
  {
   "cell_type": "markdown",
   "id": "8217a28a",
   "metadata": {},
   "source": [
    "## Data Denormalization for Q5"
   ]
  },
  {
   "cell_type": "code",
   "execution_count": 31,
   "id": "66262245",
   "metadata": {},
   "outputs": [],
   "source": [
    "mrt = merge(left=tags.drop_duplicates(), right=movies.loc[:, 'movieId':'title'], left_on='movieId', right_on='movieId')\n",
    "movies_by_tag = merge(left=mrt, right=avgs, left_on='movieId', right_on='movieId')"
   ]
  },
  {
   "cell_type": "code",
   "execution_count": 34,
   "id": "354a63a6",
   "metadata": {},
   "outputs": [],
   "source": [
    "movies_by_tag.to_csv(mypath+'Datastax_denormalized\\\\movies_by_tag.csv', index=0)"
   ]
  },
  {
   "cell_type": "code",
   "execution_count": 93,
   "id": "0f5ca6e4",
   "metadata": {},
   "outputs": [],
   "source": [
    "def insert_into_movies_by_tag(df, n):\n",
    "    # insert data for Q4\n",
    "    sep = '('\n",
    "    for index, row in df[0::n].iterrows():\n",
    "        #  tag | movieid | rating | id | title\n",
    "        tag = row.tag.replace(\"'\", \"\").split(sep, 1)[0]\n",
    "        movie_id = row.movieId\n",
    "        r = row.rating\n",
    "        idd = uuid.uuid4()\n",
    "        title = row.title[:-6].replace(\"'\", \"\").split(sep, 1)[0]\n",
    "        \n",
    "        q = f\"INSERT INTO movies_by_tag(tag, movieid, rating, id, title)VALUES('{tag}', {movie_id}, {r}, {idd}, '{title}')\"\n",
    "        session.execute(q)"
   ]
  },
  {
   "cell_type": "code",
   "execution_count": 103,
   "id": "a1cfe7a4",
   "metadata": {},
   "outputs": [],
   "source": [
    "def select_from_movies_by_tag(tag):\n",
    "    Q5 = f\"SELECT tag, title, avg(rating) AS avg FROM movies_by_tag WHERE tag='{tag}' GROUP BY movieid;\"\n",
    "    rows = session.execute(Q5)\n",
    "    for row in rows:\n",
    "        print(f\"Tag: {row.tag} Title: {row.title} Rating: {row.avg:.1f}\")\n",
    "    "
   ]
  },
  {
   "cell_type": "code",
   "execution_count": 104,
   "id": "fa4e59fb",
   "metadata": {},
   "outputs": [
    {
     "name": "stdout",
     "output_type": "stream",
     "text": [
      "Tag: comedy Title: Cars 1 Rating: 4.2\n",
      "Tag: comedy Title: Lost highway Rating: 4.8\n",
      "Tag: comedy Title: Robin Hood: Men in Tights  Rating: 3.0\n",
      "Tag: comedy Title: Welcome to the Dollhouse  Rating: 4.5\n",
      "Tag: comedy Title: Home Alone  Rating: 3.0\n",
      "Tag: comedy Title: Raiders of the Lost Ark  Rating: 3.8\n",
      "Tag: comedy Title: Blues Brothers, The  Rating: 4.5\n",
      "Tag: comedy Title: Life Is Beautiful  Rating: 3.5\n",
      "Tag: comedy Title: Office Space  Rating: 4.2\n",
      "Tag: comedy Title: Animal House  Rating: 5.0\n",
      "Tag: comedy Title: Bridget Joness Diary  Rating: 3.0\n",
      "Tag: comedy Title: Shrek  Rating: 4.2\n",
      "Tag: comedy Title: Adaptation  Rating: 4.0\n"
     ]
    }
   ],
   "source": [
    "# insert_into_movies_by_tag(mrt, 1)\n",
    "select_from_movies_by_tag('comedy')"
   ]
  }
 ],
 "metadata": {
  "kernelspec": {
   "display_name": "Python 3 (ipykernel)",
   "language": "python",
   "name": "python3"
  },
  "language_info": {
   "codemirror_mode": {
    "name": "ipython",
    "version": 3
   },
   "file_extension": ".py",
   "mimetype": "text/x-python",
   "name": "python",
   "nbconvert_exporter": "python",
   "pygments_lexer": "ipython3",
   "version": "3.10.4"
  }
 },
 "nbformat": 4,
 "nbformat_minor": 5
}
