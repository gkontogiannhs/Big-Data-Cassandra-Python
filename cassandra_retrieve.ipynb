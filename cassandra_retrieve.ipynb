{
 "cells": [
  {
   "cell_type": "code",
   "execution_count": 1,
   "id": "335c3fc9",
   "metadata": {},
   "outputs": [
    {
     "name": "stdout",
     "output_type": "stream",
     "text": [
      "Once deleted, variables cannot be recovered. Proceed (y/[n])? y\n"
     ]
    }
   ],
   "source": [
    "%reset"
   ]
  },
  {
   "cell_type": "code",
   "execution_count": 16,
   "id": "ccc81fcc",
   "metadata": {},
   "outputs": [],
   "source": [
    "from cassandra.cluster import Cluster\n",
    "from cassandra.auth import PlainTextAuthProvider\n",
    "from os.path import expanduser, join\n",
    "from re import findall\n",
    "from pandas import DataFrame, to_datetime, merge"
   ]
  },
  {
   "cell_type": "code",
   "execution_count": 9,
   "id": "cdeddf1c",
   "metadata": {},
   "outputs": [],
   "source": [
    "home = expanduser('~')\n",
    "mypath = f'{home}/Downloads/BigData/'\n",
    "deromalized_path = join(mypath, 'Datastax_denormalized/').replace('\\\\', '/')"
   ]
  },
  {
   "cell_type": "markdown",
   "id": "da0128d4",
   "metadata": {},
   "source": [
    "## Connect to DataStax"
   ]
  },
  {
   "cell_type": "code",
   "execution_count": 10,
   "id": "7d483991",
   "metadata": {},
   "outputs": [],
   "source": [
    "cloud_config= {'secure_connect_bundle': mypath+'secure-connect-bigdataproject2022.zip'}\n",
    "\n",
    "with open(mypath+'GeneratedToken.csv', 'r', encoding='utf-8') as file:\n",
    "    try:\n",
    "        content = file.readlines()        \n",
    "    except FileNotFoundError:\n",
    "        raise('File not found')\n",
    "\n",
    "tokens = findall(r'\"(.*?)\"', content[1])\n",
    "client_id = tokens[0]\n",
    "client_secret = tokens[1]"
   ]
  },
  {
   "cell_type": "code",
   "execution_count": 11,
   "id": "583821a6",
   "metadata": {},
   "outputs": [],
   "source": [
    "keyspace = 'big_data'\n",
    "auth_provider = PlainTextAuthProvider(client_id, client_secret)\n",
    "cluster = Cluster(cloud=cloud_config, auth_provider=auth_provider)\n",
    "session = cluster.connect(keyspace)"
   ]
  },
  {
   "cell_type": "markdown",
   "id": "0981d04a",
   "metadata": {},
   "source": [
    "## Q1"
   ]
  },
  {
   "cell_type": "markdown",
   "id": "40e80d24",
   "metadata": {},
   "source": [
    "## Retrieve data for Q1"
   ]
  },
  {
   "cell_type": "code",
   "execution_count": 12,
   "id": "19a5714a",
   "metadata": {},
   "outputs": [],
   "source": [
    "def select_from_popular_movies_by_date(start_date, end_date):\n",
    "    sd = to_datetime(start_date)\n",
    "    ed = to_datetime(end_date)\n",
    "    if sd.year == ed.year:\n",
    "        months = ','.join([str(i) for i in range(sd.month, ed.month+1)])\n",
    "        Q1 = f\"SELECT movieid, title, genres, rating FROM popular_movies_by_date WHERE year={sd.year} AND month IN({months}) AND day>={sd.day} AND day<={ed.day};\"\n",
    "        query_results = session.execute(Q1)\n",
    "        \n",
    "        movies = DataFrame([(row.movieid, row.title, row.genres, row.rating) for row in query_results], columns=['movieid', 'title', 'genres', 'rating'])\n",
    "        u_movies = DataFrame(movies.groupby(by='movieid')['rating'].mean())\n",
    "        u_movies.reset_index(inplace=True)\n",
    "        u_movies.sort_values(by='rating', ascending=False, inplace=True)\n",
    "        movies = merge(left=u_movies, right=movies.loc[:, 'movieid':'genres'], left_on='movieid', right_on='movieid')\n",
    "        \n",
    "        for index, row in movies.iterrows():\n",
    "            print(row.title, row.rating)\n",
    "            if index == 29:\n",
    "                break\n",
    "    else:\n",
    "        print(\"Invalid date range!\")"
   ]
  },
  {
   "cell_type": "code",
   "execution_count": 17,
   "id": "cc1380cd",
   "metadata": {},
   "outputs": [
    {
     "name": "stdout",
     "output_type": "stream",
     "text": [
      "What Ever Happened to Baby Jane? 5.0\n",
      "Shrek 4.199999809265137\n",
      "Air America 3.0\n"
     ]
    }
   ],
   "source": [
    "select_from_popular_movies_by_date('2015-01-01', '2015-01-15')"
   ]
  },
  {
   "cell_type": "markdown",
   "id": "d94e88a2",
   "metadata": {},
   "source": [
    "## Q2"
   ]
  },
  {
   "cell_type": "markdown",
   "id": "00427d22",
   "metadata": {},
   "source": [
    "## Retrieve data for Q2"
   ]
  },
  {
   "cell_type": "code",
   "execution_count": 20,
   "id": "461d8a35",
   "metadata": {},
   "outputs": [],
   "source": [
    "def select_from_movies_by_keyword(keyword='toy', limit=5):\n",
    "    Q2 = f\"SELECT title, rating, genres FROM movies_by_keyword WHERE keyword='{keyword.lower()}' LIMIT {limit};\"\n",
    "    rows = session.execute(Q2)\n",
    "    for row in rows:\n",
    "        print(f\"Title: {row.title} Rating: {row.rating:.1f} Genres: {row.genres}\")"
   ]
  },
  {
   "cell_type": "code",
   "execution_count": 22,
   "id": "1ee0ccf7",
   "metadata": {},
   "outputs": [
    {
     "name": "stdout",
     "output_type": "stream",
     "text": [
      "Title: Star Wars: Episode IV - A New Hope Rating: 4.2 Genres: Action|Adventure|Sci-Fi\n",
      "Title: Star Wars: Episode V - The Empire Strikes Back Rating: 4.2 Genres: Action|Adventure|Sci-Fi\n",
      "Title: Lucky Star Rating: 4.2 Genres: Drama|Romance\n",
      "Title: Lone Star Rating: 4.1 Genres: Drama|Mystery|Western\n",
      "Title: The Cloud-Capped Star Rating: 4.1 Genres: Drama\n"
     ]
    }
   ],
   "source": [
    "select_from_movies_by_keyword(keyword='star')"
   ]
  },
  {
   "cell_type": "markdown",
   "id": "014bc34c",
   "metadata": {},
   "source": [
    "# Q3"
   ]
  },
  {
   "cell_type": "markdown",
   "id": "33f551e7",
   "metadata": {},
   "source": [
    "## Retrieve data for Q2"
   ]
  },
  {
   "cell_type": "code",
   "execution_count": 23,
   "id": "5b563f89",
   "metadata": {},
   "outputs": [],
   "source": [
    "def select_from_movies_by_genre(genre, limit=10):\n",
    "    Q3 = f\"SELECT title, avg_rating, release_date FROM movies_by_genre WHERE genre='{genre}' ORDER BY release_date ASC LIMIT {limit};\"\n",
    "    rows = session.execute(Q3)\n",
    "    for row in rows:\n",
    "        print(f\"Title: {row.title} Rating: {row.avg_rating:.1f} Release Date: {row.release_date}\")\n",
    "    "
   ]
  },
  {
   "cell_type": "code",
   "execution_count": 24,
   "id": "2b08e6c4",
   "metadata": {},
   "outputs": [
    {
     "name": "stdout",
     "output_type": "stream",
     "text": [
      "Title: A Trip to the Moon Rating: 3.7 Release Date: 1902\n",
      "Title: The Last Days of Pompeii Rating: 2.5 Release Date: 1913\n",
      "Title: Judith of Bethulia Rating: 3.3 Release Date: 1914\n",
      "Title: Cabiria Rating: 3.1 Release Date: 1914\n",
      "Title: Vampires, Les Rating: 3.4 Release Date: 1915\n",
      "Title: Judex Rating: 3.5 Release Date: 1916\n",
      "Title: 20,000 Leagues Under the Sea Rating: 3.3 Release Date: 1916\n",
      "Title: Male and Female Rating: 2.9 Release Date: 1919\n",
      "Title: The Spiders Part 1: The Golden Lake Rating: 2.8 Release Date: 1919\n",
      "Title: The Last of the Mohicans Rating: 3.4 Release Date: 1920\n"
     ]
    }
   ],
   "source": [
    "# insert_into_movies_by_genre(movies_ratings, 1)\n",
    "select_from_movies_by_genre('Adventure')"
   ]
  },
  {
   "cell_type": "markdown",
   "id": "9e3e8b36",
   "metadata": {},
   "source": [
    "## Q4"
   ]
  },
  {
   "cell_type": "markdown",
   "id": "46699bfd",
   "metadata": {},
   "source": [
    "## Retrieve data for Q4"
   ]
  },
  {
   "cell_type": "code",
   "execution_count": 25,
   "id": "cb391d7f",
   "metadata": {},
   "outputs": [],
   "source": [
    "def select_from_movies_by_title(session, title):\n",
    "    Q4 = f\"SELECT title, genres, tag, avg_rating AS avg FROM movie_info_by_title WHERE title='{title}' ORDER BY tag_count LIMIT 5;\"\n",
    "    rows = session.execute(Q4)\n",
    "    print(f\"Title: {rows[0].title} \\nRating: {rows[0].avg:.1f} \\nGenres: {rows[0].genres}\")\n",
    "    print(f\"Most popular tags: \")\n",
    "    for row in rows:\n",
    "        print(row.tag)"
   ]
  },
  {
   "cell_type": "code",
   "execution_count": 26,
   "id": "e9ae1e86",
   "metadata": {},
   "outputs": [
    {
     "name": "stdout",
     "output_type": "stream",
     "text": [
      "Title: Jumanji \n",
      "Rating: 3.2 \n",
      "Genres: Adventure|Children|Fantasy\n",
      "Most popular tags: \n",
      "time travel\n",
      "time\n",
      "see alsoZathura\n",
      "scary\n",
      "not for kids\n"
     ]
    }
   ],
   "source": [
    "select_from_movies_by_title(session, 'Jumanji')"
   ]
  },
  {
   "cell_type": "markdown",
   "id": "94d33b0f",
   "metadata": {},
   "source": [
    "## Q5"
   ]
  },
  {
   "cell_type": "markdown",
   "id": "274ab8d1",
   "metadata": {},
   "source": [
    "## Retrieve data for Q5"
   ]
  },
  {
   "cell_type": "code",
   "execution_count": 27,
   "id": "a1cfe7a4",
   "metadata": {},
   "outputs": [],
   "source": [
    "def select_from_movies_by_tag(tag):\n",
    "    Q5 = f\"SELECT title, avg_rating as avg, genres FROM movies_by_tag WHERE tag='{tag}' ORDER BY avg_rating DESC LIMIT 10;\"\n",
    "    rows = session.execute(Q5)\n",
    "    for row in rows:\n",
    "        print(f\"Title: {row.title} Rating: {row.avg:.1f}\")"
   ]
  },
  {
   "cell_type": "code",
   "execution_count": 28,
   "id": "fa4e59fb",
   "metadata": {},
   "outputs": [
    {
     "name": "stdout",
     "output_type": "stream",
     "text": [
      "Title: Some Like It Hot Rating: 4.1\n",
      "Title: Forrest Gump Rating: 4.0\n",
      "Title: Indiana Jones and the Last Crusade Rating: 4.0\n",
      "Title: WALL·E Rating: 4.0\n",
      "Title: Toy Story 3 Rating: 4.0\n",
      "Title: Femme Nikita, La Rating: 3.9\n",
      "Title: Groundhog Day Rating: 3.9\n",
      "Title: Back to the Future Rating: 3.9\n",
      "Title: Monsters, Inc. Rating: 3.9\n",
      "Title: Finding Nemo Rating: 3.9\n"
     ]
    }
   ],
   "source": [
    "select_from_movies_by_tag('Comedy')"
   ]
  }
 ],
 "metadata": {
  "kernelspec": {
   "display_name": "Python 3 (ipykernel)",
   "language": "python",
   "name": "python3"
  },
  "language_info": {
   "codemirror_mode": {
    "name": "ipython",
    "version": 3
   },
   "file_extension": ".py",
   "mimetype": "text/x-python",
   "name": "python",
   "nbconvert_exporter": "python",
   "pygments_lexer": "ipython3",
   "version": "3.10.4"
  }
 },
 "nbformat": 4,
 "nbformat_minor": 5
}
